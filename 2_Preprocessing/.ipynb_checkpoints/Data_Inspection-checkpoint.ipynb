{
 "cells": [
  {
   "cell_type": "markdown",
   "metadata": {},
   "source": [
    "Inspecting data from a manual inhibition paradigm\n",
    "\n",
    "Clara Kuper, January 2021\n",
    "\n",
    "In this task, one obeserver made radip hand movements from one point to another. In half of the trials, the upper and lower third of the screen turned white for 50ms. This \"flash\" occured 50 ms before the mean reaction time. This delay is known to elicit saccadic inhibition (a dip in the distribution of saccadic reaction times). We want to see if the same is true fo manual responses.\n",
    "\n",
    "In this notebook, I will:\n",
    "\n",
    "1. Load the data from the experiment\n",
    "2. Look at the reaction time distributions from flash and no-flash conditions\n",
    "3. Clean the reaction time data\n",
    "4. Align the reaction times to the onset of the flash and check again for the distribution\n",
    "5. Compare the flash and no flash condition statistically"
   ]
  },
  {
   "cell_type": "code",
   "execution_count": 1,
   "metadata": {},
   "outputs": [
    {
     "data": {
      "text/html": [
       "<div>\n",
       "<style scoped>\n",
       "    .dataframe tbody tr th:only-of-type {\n",
       "        vertical-align: middle;\n",
       "    }\n",
       "\n",
       "    .dataframe tbody tr th {\n",
       "        vertical-align: top;\n",
       "    }\n",
       "\n",
       "    .dataframe thead th {\n",
       "        text-align: right;\n",
       "    }\n",
       "</style>\n",
       "<table border=\"1\" class=\"dataframe\">\n",
       "  <thead>\n",
       "    <tr style=\"text-align: right;\">\n",
       "      <th></th>\n",
       "      <th>id</th>\n",
       "      <th>success</th>\n",
       "      <th>rea_time</th>\n",
       "      <th>clean_rea</th>\n",
       "      <th>mov_time</th>\n",
       "      <th>initPixx</th>\n",
       "      <th>t_start</th>\n",
       "      <th>t1_draw</th>\n",
       "      <th>t2_draw</th>\n",
       "      <th>t_fixed</th>\n",
       "      <th>t_flash</th>\n",
       "      <th>t_movStart</th>\n",
       "      <th>t_movEnd</th>\n",
       "      <th>t_feedback</th>\n",
       "      <th>t_end</th>\n",
       "      <th>mean_rt</th>\n",
       "      <th>touchX</th>\n",
       "      <th>touchY</th>\n",
       "    </tr>\n",
       "  </thead>\n",
       "  <tbody>\n",
       "    <tr>\n",
       "      <th>0</th>\n",
       "      <td>1</td>\n",
       "      <td>1</td>\n",
       "      <td>0.216937</td>\n",
       "      <td>0.216937</td>\n",
       "      <td>0.092003</td>\n",
       "      <td>19354.516306</td>\n",
       "      <td>19356.170440</td>\n",
       "      <td>19356.176575</td>\n",
       "      <td>19357.801508</td>\n",
       "      <td>19357.110758</td>\n",
       "      <td>NaN</td>\n",
       "      <td>19358.018445</td>\n",
       "      <td>19358.110448</td>\n",
       "      <td>19358.801814</td>\n",
       "      <td>19358.801814</td>\n",
       "      <td>0.100000</td>\n",
       "      <td>719.827763</td>\n",
       "      <td>561.440561</td>\n",
       "    </tr>\n",
       "    <tr>\n",
       "      <th>1</th>\n",
       "      <td>2</td>\n",
       "      <td>1</td>\n",
       "      <td>0.216786</td>\n",
       "      <td>0.216786</td>\n",
       "      <td>0.108419</td>\n",
       "      <td>19358.801814</td>\n",
       "      <td>19360.631008</td>\n",
       "      <td>19360.634876</td>\n",
       "      <td>19361.859858</td>\n",
       "      <td>19361.327334</td>\n",
       "      <td>19362.034885</td>\n",
       "      <td>19362.076644</td>\n",
       "      <td>19362.185063</td>\n",
       "      <td>19362.859977</td>\n",
       "      <td>19362.859977</td>\n",
       "      <td>0.166937</td>\n",
       "      <td>909.743695</td>\n",
       "      <td>819.719404</td>\n",
       "    </tr>\n",
       "    <tr>\n",
       "      <th>2</th>\n",
       "      <td>3</td>\n",
       "      <td>1</td>\n",
       "      <td>0.358458</td>\n",
       "      <td>0.358458</td>\n",
       "      <td>0.383446</td>\n",
       "      <td>19362.859977</td>\n",
       "      <td>19364.589301</td>\n",
       "      <td>19364.593278</td>\n",
       "      <td>19365.659891</td>\n",
       "      <td>19365.101787</td>\n",
       "      <td>19365.834909</td>\n",
       "      <td>19366.018349</td>\n",
       "      <td>19366.401795</td>\n",
       "      <td>19366.660029</td>\n",
       "      <td>19366.660029</td>\n",
       "      <td>0.166861</td>\n",
       "      <td>1111.826943</td>\n",
       "      <td>768.129776</td>\n",
       "    </tr>\n",
       "    <tr>\n",
       "      <th>3</th>\n",
       "      <td>4</td>\n",
       "      <td>1</td>\n",
       "      <td>0.241872</td>\n",
       "      <td>0.241872</td>\n",
       "      <td>0.174984</td>\n",
       "      <td>19366.660029</td>\n",
       "      <td>19368.383955</td>\n",
       "      <td>19368.393232</td>\n",
       "      <td>19369.659975</td>\n",
       "      <td>19369.101810</td>\n",
       "      <td>NaN</td>\n",
       "      <td>19369.901846</td>\n",
       "      <td>19370.076831</td>\n",
       "      <td>19370.660078</td>\n",
       "      <td>19370.660078</td>\n",
       "      <td>0.214060</td>\n",
       "      <td>1491.129793</td>\n",
       "      <td>313.413504</td>\n",
       "    </tr>\n",
       "    <tr>\n",
       "      <th>4</th>\n",
       "      <td>5</td>\n",
       "      <td>1</td>\n",
       "      <td>0.216769</td>\n",
       "      <td>0.216769</td>\n",
       "      <td>0.141766</td>\n",
       "      <td>19370.660078</td>\n",
       "      <td>19372.389232</td>\n",
       "      <td>19372.393333</td>\n",
       "      <td>19373.626676</td>\n",
       "      <td>19372.918518</td>\n",
       "      <td>19373.843656</td>\n",
       "      <td>19373.843444</td>\n",
       "      <td>19373.985210</td>\n",
       "      <td>19374.635241</td>\n",
       "      <td>19374.635241</td>\n",
       "      <td>0.208513</td>\n",
       "      <td>1560.430593</td>\n",
       "      <td>712.241012</td>\n",
       "    </tr>\n",
       "    <tr>\n",
       "      <th>...</th>\n",
       "      <td>...</td>\n",
       "      <td>...</td>\n",
       "      <td>...</td>\n",
       "      <td>...</td>\n",
       "      <td>...</td>\n",
       "      <td>...</td>\n",
       "      <td>...</td>\n",
       "      <td>...</td>\n",
       "      <td>...</td>\n",
       "      <td>...</td>\n",
       "      <td>...</td>\n",
       "      <td>...</td>\n",
       "      <td>...</td>\n",
       "      <td>...</td>\n",
       "      <td>...</td>\n",
       "      <td>...</td>\n",
       "      <td>...</td>\n",
       "      <td>...</td>\n",
       "    </tr>\n",
       "    <tr>\n",
       "      <th>512</th>\n",
       "      <td>513</td>\n",
       "      <td>1</td>\n",
       "      <td>0.200125</td>\n",
       "      <td>0.200125</td>\n",
       "      <td>0.191745</td>\n",
       "      <td>21601.459001</td>\n",
       "      <td>21603.180900</td>\n",
       "      <td>21603.183895</td>\n",
       "      <td>21604.475580</td>\n",
       "      <td>21603.875831</td>\n",
       "      <td>NaN</td>\n",
       "      <td>21604.675705</td>\n",
       "      <td>21604.867450</td>\n",
       "      <td>21605.475716</td>\n",
       "      <td>21605.475716</td>\n",
       "      <td>0.158641</td>\n",
       "      <td>519.860570</td>\n",
       "      <td>406.340975</td>\n",
       "    </tr>\n",
       "    <tr>\n",
       "      <th>513</th>\n",
       "      <td>514</td>\n",
       "      <td>1</td>\n",
       "      <td>0.366785</td>\n",
       "      <td>0.366785</td>\n",
       "      <td>0.050039</td>\n",
       "      <td>21605.475716</td>\n",
       "      <td>21607.197754</td>\n",
       "      <td>21607.200617</td>\n",
       "      <td>21608.550635</td>\n",
       "      <td>21607.917474</td>\n",
       "      <td>NaN</td>\n",
       "      <td>21608.917421</td>\n",
       "      <td>21608.967459</td>\n",
       "      <td>21609.550756</td>\n",
       "      <td>21609.550756</td>\n",
       "      <td>0.158547</td>\n",
       "      <td>1314.968218</td>\n",
       "      <td>432.135789</td>\n",
       "    </tr>\n",
       "    <tr>\n",
       "      <th>514</th>\n",
       "      <td>515</td>\n",
       "      <td>1</td>\n",
       "      <td>0.200135</td>\n",
       "      <td>0.200135</td>\n",
       "      <td>0.191745</td>\n",
       "      <td>21609.550756</td>\n",
       "      <td>21611.272861</td>\n",
       "      <td>21611.275665</td>\n",
       "      <td>21612.575650</td>\n",
       "      <td>21611.967521</td>\n",
       "      <td>NaN</td>\n",
       "      <td>21612.775785</td>\n",
       "      <td>21612.967530</td>\n",
       "      <td>21613.575806</td>\n",
       "      <td>21613.575806</td>\n",
       "      <td>0.160286</td>\n",
       "      <td>1283.227394</td>\n",
       "      <td>525.393962</td>\n",
       "    </tr>\n",
       "    <tr>\n",
       "      <th>515</th>\n",
       "      <td>516</td>\n",
       "      <td>1</td>\n",
       "      <td>0.191482</td>\n",
       "      <td>0.191482</td>\n",
       "      <td>0.283398</td>\n",
       "      <td>21613.575806</td>\n",
       "      <td>21615.297701</td>\n",
       "      <td>21615.300778</td>\n",
       "      <td>21616.601035</td>\n",
       "      <td>21615.975892</td>\n",
       "      <td>21616.767441</td>\n",
       "      <td>21616.792518</td>\n",
       "      <td>21617.075916</td>\n",
       "      <td>21617.609204</td>\n",
       "      <td>21617.609204</td>\n",
       "      <td>0.160175</td>\n",
       "      <td>1443.518556</td>\n",
       "      <td>738.035826</td>\n",
       "    </tr>\n",
       "    <tr>\n",
       "      <th>516</th>\n",
       "      <td>517</td>\n",
       "      <td>1</td>\n",
       "      <td>0.200102</td>\n",
       "      <td>0.200102</td>\n",
       "      <td>0.208424</td>\n",
       "      <td>21617.609204</td>\n",
       "      <td>21619.331040</td>\n",
       "      <td>21619.334128</td>\n",
       "      <td>21620.775766</td>\n",
       "      <td>21620.125934</td>\n",
       "      <td>NaN</td>\n",
       "      <td>21620.975868</td>\n",
       "      <td>21621.184292</td>\n",
       "      <td>21621.775919</td>\n",
       "      <td>21621.775919</td>\n",
       "      <td>0.159974</td>\n",
       "      <td>1339.831864</td>\n",
       "      <td>439.411249</td>\n",
       "    </tr>\n",
       "  </tbody>\n",
       "</table>\n",
       "<p>517 rows × 18 columns</p>\n",
       "</div>"
      ],
      "text/plain": [
       "      id  success  rea_time  clean_rea  mov_time      initPixx       t_start  \\\n",
       "0      1        1  0.216937   0.216937  0.092003  19354.516306  19356.170440   \n",
       "1      2        1  0.216786   0.216786  0.108419  19358.801814  19360.631008   \n",
       "2      3        1  0.358458   0.358458  0.383446  19362.859977  19364.589301   \n",
       "3      4        1  0.241872   0.241872  0.174984  19366.660029  19368.383955   \n",
       "4      5        1  0.216769   0.216769  0.141766  19370.660078  19372.389232   \n",
       "..   ...      ...       ...        ...       ...           ...           ...   \n",
       "512  513        1  0.200125   0.200125  0.191745  21601.459001  21603.180900   \n",
       "513  514        1  0.366785   0.366785  0.050039  21605.475716  21607.197754   \n",
       "514  515        1  0.200135   0.200135  0.191745  21609.550756  21611.272861   \n",
       "515  516        1  0.191482   0.191482  0.283398  21613.575806  21615.297701   \n",
       "516  517        1  0.200102   0.200102  0.208424  21617.609204  21619.331040   \n",
       "\n",
       "          t1_draw       t2_draw       t_fixed       t_flash    t_movStart  \\\n",
       "0    19356.176575  19357.801508  19357.110758           NaN  19358.018445   \n",
       "1    19360.634876  19361.859858  19361.327334  19362.034885  19362.076644   \n",
       "2    19364.593278  19365.659891  19365.101787  19365.834909  19366.018349   \n",
       "3    19368.393232  19369.659975  19369.101810           NaN  19369.901846   \n",
       "4    19372.393333  19373.626676  19372.918518  19373.843656  19373.843444   \n",
       "..            ...           ...           ...           ...           ...   \n",
       "512  21603.183895  21604.475580  21603.875831           NaN  21604.675705   \n",
       "513  21607.200617  21608.550635  21607.917474           NaN  21608.917421   \n",
       "514  21611.275665  21612.575650  21611.967521           NaN  21612.775785   \n",
       "515  21615.300778  21616.601035  21615.975892  21616.767441  21616.792518   \n",
       "516  21619.334128  21620.775766  21620.125934           NaN  21620.975868   \n",
       "\n",
       "         t_movEnd    t_feedback         t_end   mean_rt       touchX  \\\n",
       "0    19358.110448  19358.801814  19358.801814  0.100000   719.827763   \n",
       "1    19362.185063  19362.859977  19362.859977  0.166937   909.743695   \n",
       "2    19366.401795  19366.660029  19366.660029  0.166861  1111.826943   \n",
       "3    19370.076831  19370.660078  19370.660078  0.214060  1491.129793   \n",
       "4    19373.985210  19374.635241  19374.635241  0.208513  1560.430593   \n",
       "..            ...           ...           ...       ...          ...   \n",
       "512  21604.867450  21605.475716  21605.475716  0.158641   519.860570   \n",
       "513  21608.967459  21609.550756  21609.550756  0.158547  1314.968218   \n",
       "514  21612.967530  21613.575806  21613.575806  0.160286  1283.227394   \n",
       "515  21617.075916  21617.609204  21617.609204  0.160175  1443.518556   \n",
       "516  21621.184292  21621.775919  21621.775919  0.159974  1339.831864   \n",
       "\n",
       "         touchY  \n",
       "0    561.440561  \n",
       "1    819.719404  \n",
       "2    768.129776  \n",
       "3    313.413504  \n",
       "4    712.241012  \n",
       "..          ...  \n",
       "512  406.340975  \n",
       "513  432.135789  \n",
       "514  525.393962  \n",
       "515  738.035826  \n",
       "516  439.411249  \n",
       "\n",
       "[517 rows x 18 columns]"
      ]
     },
     "execution_count": 1,
     "metadata": {},
     "output_type": "execute_result"
    }
   ],
   "source": [
    "import numpy as np\n",
    "import pandas as pd\n",
    "import matplotlib.pyplot as plt\n",
    "import seaborn as sns\n",
    "import scipy.stats as stats\n",
    "\n",
    "data = pd.read_csv('../1_Data/ck01_MI_dat.csv')\n",
    "data"
   ]
  },
  {
   "cell_type": "code",
   "execution_count": 2,
   "metadata": {},
   "outputs": [
    {
     "data": {
      "image/png": "[encoded data removed]",
      "text/plain": [
       "<Figure size 432x288 with 1 Axes>"
      ]
     },
     "metadata": {
      "needs_background": "light"
     },
     "output_type": "display_data"
    }
   ],
   "source": [
    "# normalize all times to the \"go\" signal of the task (t2_draw)\n",
    "data['initPixx'] = data['initPixx'] - data['t2_draw']\n",
    "data['t_start'] = data['t_start'] - data['t2_draw']\n",
    "data['t1_draw'] = data['t1_draw'] - data['t2_draw']\n",
    "data['t2_draw'] = data['t2_draw'] - data['t2_draw']\n",
    "data['t_fixed'] = data['t_fixed'] - data['t2_draw']\n",
    "data['t_flash'] = data['t_flash'] - data['t2_draw']\n",
    "data['t_movStart'] = data['t_movStart'] - data['t2_draw']\n",
    "data['t_movEnd'] = data['t_movEnd'] - data['t2_draw']\n",
    "data['t_feedback'] = data['t_feedback'] - data['t2_draw']\n",
    "data['t_end'] = data['t_end'] - data['t2_draw']\n",
    "\n",
    "plt.hist(data.rea_time);"
   ]
  },
  {
   "cell_type": "code",
   "execution_count": 3,
   "metadata": {},
   "outputs": [
    {
     "data": {
      "image/png": "[encoded data removed]",
      "text/plain": [
       "<Figure size 432x288 with 1 Axes>"
      ]
     },
     "metadata": {
      "needs_background": "light"
     },
     "output_type": "display_data"
    }
   ],
   "source": [
    "# clean the dataset: remove all time trials where the reaction time is larger or smaller than 2 std\n",
    "# also, remove all unsuccessful trials\n",
    "# get standart deviation\n",
    "rea_std = np.std(data.rea_time)\n",
    "\n",
    "# get std as variation from mean\n",
    "rea_cut_high = np.mean(data.rea_time) + 2* rea_std\n",
    "rea_cut_low = np.mean(data.rea_time) - 2* rea_std\n",
    "\n",
    "# delete the rows with too low/high reaction times\n",
    "rm_idx = np.where((data.rea_time >= rea_cut_high) | (data.rea_time <= rea_cut_low))\n",
    "df = data.drop(rm_idx[0]).reset_index(drop = True)\n",
    "# delete rows with unsuccessful trials\n",
    "df = df.drop(np.where(df.success ==0)[0])\n",
    "# plot all trials together\n",
    "plt.hist(df.rea_time);"
   ]
  },
  {
   "cell_type": "code",
   "execution_count": 4,
   "metadata": {
    "scrolled": true
   },
   "outputs": [
    {
     "data": {
      "image/png": "[encoded data removed]",
      "text/plain": [
       "<Figure size 1008x216 with 2 Axes>"
      ]
     },
     "metadata": {
      "needs_background": "light"
     },
     "output_type": "display_data"
    }
   ],
   "source": [
    "# plot reaction times of flash - and no-flash trials seperately\n",
    "fig1, axs1 = plt.subplots(1,2, figsize  = (14,3))\n",
    "axs1[0].hist(df[np.isnan(df.t_flash)]['rea_time'], bins = 20)\n",
    "axs1[0].set_xlim(0.1,0.35)\n",
    "axs1[1].hist(df[np.isnan(df.t_flash)==False]['rea_time'], bins = 20)\n",
    "axs1[1].set_xlim(0.1,0.35);"
   ]
  },
  {
   "cell_type": "code",
   "execution_count": 5,
   "metadata": {},
   "outputs": [
    {
     "name": "stderr",
     "output_type": "stream",
     "text": [
      "C:\\Users\\ClaraQ\\anaconda3\\lib\\site-packages\\numpy\\lib\\histograms.py:839: RuntimeWarning: invalid value encountered in greater_equal\n",
      "  keep = (tmp_a >= first_edge)\n",
      "C:\\Users\\ClaraQ\\anaconda3\\lib\\site-packages\\numpy\\lib\\histograms.py:840: RuntimeWarning: invalid value encountered in less_equal\n",
      "  keep &= (tmp_a <= last_edge)\n"
     ]
    },
    {
     "data": {
      "image/png": "[encoded data removed]",
      "text/plain": [
       "<Figure size 432x288 with 1 Axes>"
      ]
     },
     "metadata": {
      "needs_background": "light"
     },
     "output_type": "display_data"
    }
   ],
   "source": [
    "# This doesn't look like a dip, but maybe the problem is that the flash was not always presented \n",
    "# at the same time relative to the movement onset. Lets check that\n",
    "\n",
    "df['flash_movement'] = df.t_movStart - df.t_flash\n",
    "plt.hist(df.flash_movement, bins =20);"
   ]
  },
  {
   "cell_type": "code",
   "execution_count": 6,
   "metadata": {
    "scrolled": true
   },
   "outputs": [
    {
     "name": "stdout",
     "output_type": "stream",
     "text": [
      "236\n",
      "234\n"
     ]
    },
    {
     "data": {
      "text/plain": [
       "Ttest_relResult(statistic=0.4923425642668596, pvalue=0.622940779733975)"
      ]
     },
     "execution_count": 6,
     "metadata": {},
     "output_type": "execute_result"
    }
   ],
   "source": [
    "# So we can see that there is a distribution of reaction times, centeres ar 30-50 ms (which is what we were looking for)\n",
    "# There are few negative times, which is good, bc it means that rarely was the flash shown after the hand already moved.\n",
    "# We don't see a dip in the responses as we would expect at around 50 - 70 ms\n",
    "# we can still compare if the reaction times differ between flash and no flash conditions\n",
    "flash_trials = df[np.isnan(df.t_flash)==False]['rea_time']\n",
    "no_flash_trials = df[np.isnan(df.t_flash)]['rea_time']\n",
    "\n",
    "print(len(flash_trials))\n",
    "print(len(no_flash_trials))\n",
    "\n",
    "flash_trials = np.random.choice(flash_trials, len(no_flash_trials))\n",
    "\n",
    "stats.ttest_rel(no_flash_trials,flash_trials)"
   ]
  },
  {
   "cell_type": "markdown",
   "metadata": {},
   "source": [
    "Conclusion: we find no evidence for manual freezing in the response times. Let's have a look at the duration of the movement instead of the latency"
   ]
  },
  {
   "cell_type": "code",
   "execution_count": 7,
   "metadata": {},
   "outputs": [
    {
     "data": {
      "image/png": "[encoded data removed]",
      "text/plain": [
       "<Figure size 432x288 with 1 Axes>"
      ]
     },
     "metadata": {
      "needs_background": "light"
     },
     "output_type": "display_data"
    }
   ],
   "source": [
    "plt.hist(df.mov_time);"
   ]
  },
  {
   "cell_type": "code",
   "execution_count": 8,
   "metadata": {},
   "outputs": [
    {
     "data": {
      "image/png": "[encoded data removed]",
      "text/plain": [
       "<Figure size 432x288 with 1 Axes>"
      ]
     },
     "metadata": {
      "needs_background": "light"
     },
     "output_type": "display_data"
    }
   ],
   "source": [
    "mov_std = np.std(df.mov_time)\n",
    "\n",
    "# get std as variation from mean\n",
    "mov_cut_high = np.mean(data.mov_time) + 2* mov_std\n",
    "mov_cut_low = np.mean(data.mov_time) - 2* mov_std\n",
    "\n",
    "# delete the rows with too low/high reaction times\n",
    "rm_idx = np.where((data.mov_time >= mov_cut_high) | (data.mov_time <= mov_cut_low))\n",
    "df = data.drop(rm_idx[0]).reset_index(drop = True)\n",
    "# plot all trials together\n",
    "plt.hist(df.mov_time, bins = 20);"
   ]
  },
  {
   "cell_type": "code",
   "execution_count": 9,
   "metadata": {},
   "outputs": [
    {
     "data": {
      "text/plain": [
       "(array([ 2., 10., 18.,  9., 11., 30., 17., 35., 14., 18., 24., 10., 13.,\n",
       "         3.,  4.,  1.,  2.,  6.,  0.,  2.]),\n",
       " array([0.08320212, 0.09488669, 0.10657126, 0.11825584, 0.12994041,\n",
       "        0.14162498, 0.15330955, 0.16499412, 0.1766787 , 0.18836327,\n",
       "        0.20004784, 0.21173241, 0.22341698, 0.23510156, 0.24678613,\n",
       "        0.2584707 , 0.27015527, 0.28183984, 0.29352442, 0.30520899,\n",
       "        0.31689356]),\n",
       " <a list of 20 Patch objects>)"
      ]
     },
     "execution_count": 9,
     "metadata": {},
     "output_type": "execute_result"
    },
    {
     "data": {
      "image/png": "[encoded data removed]",
      "text/plain": [
       "<Figure size 1008x216 with 2 Axes>"
      ]
     },
     "metadata": {
      "needs_background": "light"
     },
     "output_type": "display_data"
    }
   ],
   "source": [
    "fig2, axs2 = plt.subplots(1,2, figsize = (14,3))\n",
    "axs2[0].hist(df[np.isnan(df.t_flash)]['mov_time'], bins = 20)\n",
    "axs2[1].hist(df[np.isnan(df.t_flash)==False]['mov_time'], bins = 20);"
   ]
  },
  {
   "cell_type": "code",
   "execution_count": 11,
   "metadata": {},
   "outputs": [
    {
     "data": {
      "image/png": "[encoded data removed]",
      "text/plain": [
       "<Figure size 432x288 with 1 Axes>"
      ]
     },
     "metadata": {
      "needs_background": "light"
     },
     "output_type": "display_data"
    }
   ],
   "source": [
    "# correct the movement durations and show them realtive to flash onset \n",
    "\n",
    "mov_flash = df.t_movEnd - df.t_flash\n",
    "mov_flash = mov_flash[mov_flash<0.5]\n",
    "plt.hist(mov_flash);"
   ]
  },
  {
   "cell_type": "code",
   "execution_count": null,
   "metadata": {},
   "outputs": [],
   "source": []
  }
 ],
 "metadata": {
  "kernelspec": {
   "display_name": "Python 3",
   "language": "python",
   "name": "python3"
  },
  "language_info": {
   "codemirror_mode": {
    "name": "ipython",
    "version": 3
   },
   "file_extension": ".py",
   "mimetype": "text/x-python",
   "name": "python",
   "nbconvert_exporter": "python",
   "pygments_lexer": "ipython3",
   "version": "3.7.6"
  }
 },
 "nbformat": 4,
 "nbformat_minor": 4
}
