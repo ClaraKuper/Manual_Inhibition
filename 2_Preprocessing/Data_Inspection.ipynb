{
 "cells": [
  {
   "cell_type": "markdown",
   "metadata": {},
   "source": [
    "Inspecting data from a manual inhibition paradigm\n",
    "\n",
    "Clara Kuper, January 2021\n",
    "\n",
    "In this task, one obeserver made radip hand movements from one point to another. In half of the trials, the upper and lower third of the screen turned white for 50ms. This \"flash\" occured 50 ms before the mean reaction time. This delay is known to elicit saccadic inhibition (a dip in the distribution of saccadic reaction times). We want to see if the same is true fo manual responses.\n",
    "\n",
    "In this notebook, I will:\n",
    "\n",
    "1. Load the data from the experiment\n",
    "2. Look at the reaction time distributions from flash and no-flash conditions\n",
    "3. Clean the reaction time data\n",
    "4. Align the reaction times to the onset of the flash and check again for the distribution\n",
    "5. Compare the flash and no flash condition statistically"
   ]
  },
  {
   "cell_type": "code",
   "execution_count": 11,
   "metadata": {},
   "outputs": [
    {
     "data": {
      "text/html": [
       "<div>\n",
       "<style scoped>\n",
       "    .dataframe tbody tr th:only-of-type {\n",
       "        vertical-align: middle;\n",
       "    }\n",
       "\n",
       "    .dataframe tbody tr th {\n",
       "        vertical-align: top;\n",
       "    }\n",
       "\n",
       "    .dataframe thead th {\n",
       "        text-align: right;\n",
       "    }\n",
       "</style>\n",
       "<table border=\"1\" class=\"dataframe\">\n",
       "  <thead>\n",
       "    <tr style=\"text-align: right;\">\n",
       "      <th></th>\n",
       "      <th>id</th>\n",
       "      <th>success</th>\n",
       "      <th>rea_time</th>\n",
       "      <th>clean_rea</th>\n",
       "      <th>mov_time</th>\n",
       "      <th>sacc_rea</th>\n",
       "      <th>sacc_dur</th>\n",
       "      <th>initPixx</th>\n",
       "      <th>t_start</th>\n",
       "      <th>t1_draw</th>\n",
       "      <th>...</th>\n",
       "      <th>t_movStart</th>\n",
       "      <th>t_movEnd</th>\n",
       "      <th>t_saccStart</th>\n",
       "      <th>t_saccEnd</th>\n",
       "      <th>t_feedback</th>\n",
       "      <th>t_end</th>\n",
       "      <th>mean_rt</th>\n",
       "      <th>touchX</th>\n",
       "      <th>touchY</th>\n",
       "      <th>version</th>\n",
       "    </tr>\n",
       "  </thead>\n",
       "  <tbody>\n",
       "    <tr>\n",
       "      <th>0</th>\n",
       "      <td>1</td>\n",
       "      <td>0</td>\n",
       "      <td>0.225151</td>\n",
       "      <td>0.166566</td>\n",
       "      <td>0.125446</td>\n",
       "      <td>0.166566</td>\n",
       "      <td>0.008347</td>\n",
       "      <td>9770.374053</td>\n",
       "      <td>9798.146839</td>\n",
       "      <td>9798.155845</td>\n",
       "      <td>...</td>\n",
       "      <td>9799.806201</td>\n",
       "      <td>9799.931647</td>\n",
       "      <td>9799.747616</td>\n",
       "      <td>9799.755963</td>\n",
       "      <td>9800.589468</td>\n",
       "      <td>9800.589468</td>\n",
       "      <td>0.100000</td>\n",
       "      <td>633.902041</td>\n",
       "      <td>562.613480</td>\n",
       "      <td>2tar</td>\n",
       "    </tr>\n",
       "    <tr>\n",
       "      <th>1</th>\n",
       "      <td>2</td>\n",
       "      <td>1</td>\n",
       "      <td>0.208560</td>\n",
       "      <td>0.166769</td>\n",
       "      <td>0.091754</td>\n",
       "      <td>0.166769</td>\n",
       "      <td>0.016736</td>\n",
       "      <td>9800.589468</td>\n",
       "      <td>9802.531107</td>\n",
       "      <td>9802.539342</td>\n",
       "      <td>...</td>\n",
       "      <td>9803.939481</td>\n",
       "      <td>9804.031235</td>\n",
       "      <td>9803.897689</td>\n",
       "      <td>9803.914425</td>\n",
       "      <td>9804.731091</td>\n",
       "      <td>9804.731091</td>\n",
       "      <td>0.116566</td>\n",
       "      <td>1304.702041</td>\n",
       "      <td>557.991747</td>\n",
       "      <td>2tar</td>\n",
       "    </tr>\n",
       "    <tr>\n",
       "      <th>2</th>\n",
       "      <td>3</td>\n",
       "      <td>1</td>\n",
       "      <td>0.208545</td>\n",
       "      <td>0.158556</td>\n",
       "      <td>0.133442</td>\n",
       "      <td>0.158556</td>\n",
       "      <td>0.016582</td>\n",
       "      <td>9804.731091</td>\n",
       "      <td>9806.524613</td>\n",
       "      <td>9806.530916</td>\n",
       "      <td>...</td>\n",
       "      <td>9807.714472</td>\n",
       "      <td>9807.847913</td>\n",
       "      <td>9807.664482</td>\n",
       "      <td>9807.681065</td>\n",
       "      <td>9808.506127</td>\n",
       "      <td>9808.506127</td>\n",
       "      <td>0.116667</td>\n",
       "      <td>617.053061</td>\n",
       "      <td>551.059147</td>\n",
       "      <td>2tar</td>\n",
       "    </tr>\n",
       "    <tr>\n",
       "      <th>3</th>\n",
       "      <td>4</td>\n",
       "      <td>1</td>\n",
       "      <td>0.199718</td>\n",
       "      <td>0.166293</td>\n",
       "      <td>0.125505</td>\n",
       "      <td>0.166293</td>\n",
       "      <td>0.016671</td>\n",
       "      <td>9808.506127</td>\n",
       "      <td>9810.290197</td>\n",
       "      <td>9810.297648</td>\n",
       "      <td>...</td>\n",
       "      <td>9811.606166</td>\n",
       "      <td>9811.731671</td>\n",
       "      <td>9811.572741</td>\n",
       "      <td>9811.589412</td>\n",
       "      <td>9812.414546</td>\n",
       "      <td>9812.414546</td>\n",
       "      <td>0.113963</td>\n",
       "      <td>1312.073469</td>\n",
       "      <td>533.232462</td>\n",
       "      <td>2tar</td>\n",
       "    </tr>\n",
       "    <tr>\n",
       "      <th>4</th>\n",
       "      <td>5</td>\n",
       "      <td>0</td>\n",
       "      <td>0.191805</td>\n",
       "      <td>0.158395</td>\n",
       "      <td>0.116974</td>\n",
       "      <td>0.158395</td>\n",
       "      <td>0.016699</td>\n",
       "      <td>9812.414546</td>\n",
       "      <td>9814.205123</td>\n",
       "      <td>9814.214351</td>\n",
       "      <td>...</td>\n",
       "      <td>9815.381188</td>\n",
       "      <td>9815.498162</td>\n",
       "      <td>9815.347778</td>\n",
       "      <td>9815.364477</td>\n",
       "      <td>9816.189650</td>\n",
       "      <td>9816.189650</td>\n",
       "      <td>0.114546</td>\n",
       "      <td>1311.546939</td>\n",
       "      <td>541.815681</td>\n",
       "      <td>2tar</td>\n",
       "    </tr>\n",
       "    <tr>\n",
       "      <th>...</th>\n",
       "      <td>...</td>\n",
       "      <td>...</td>\n",
       "      <td>...</td>\n",
       "      <td>...</td>\n",
       "      <td>...</td>\n",
       "      <td>...</td>\n",
       "      <td>...</td>\n",
       "      <td>...</td>\n",
       "      <td>...</td>\n",
       "      <td>...</td>\n",
       "      <td>...</td>\n",
       "      <td>...</td>\n",
       "      <td>...</td>\n",
       "      <td>...</td>\n",
       "      <td>...</td>\n",
       "      <td>...</td>\n",
       "      <td>...</td>\n",
       "      <td>...</td>\n",
       "      <td>...</td>\n",
       "      <td>...</td>\n",
       "      <td>...</td>\n",
       "    </tr>\n",
       "    <tr>\n",
       "      <th>513</th>\n",
       "      <td>514</td>\n",
       "      <td>1</td>\n",
       "      <td>0.166634</td>\n",
       "      <td>0.166829</td>\n",
       "      <td>0.166914</td>\n",
       "      <td>0.166829</td>\n",
       "      <td>0.016381</td>\n",
       "      <td>11806.085537</td>\n",
       "      <td>11807.868818</td>\n",
       "      <td>11807.877044</td>\n",
       "      <td>...</td>\n",
       "      <td>11809.018873</td>\n",
       "      <td>11809.185787</td>\n",
       "      <td>11809.019069</td>\n",
       "      <td>11809.035449</td>\n",
       "      <td>11809.860682</td>\n",
       "      <td>11809.860682</td>\n",
       "      <td>0.111959</td>\n",
       "      <td>612.840816</td>\n",
       "      <td>552.709766</td>\n",
       "      <td>2tar</td>\n",
       "    </tr>\n",
       "    <tr>\n",
       "      <th>514</th>\n",
       "      <td>515</td>\n",
       "      <td>1</td>\n",
       "      <td>0.183254</td>\n",
       "      <td>0.166542</td>\n",
       "      <td>0.108547</td>\n",
       "      <td>0.166542</td>\n",
       "      <td>0.016879</td>\n",
       "      <td>11809.860682</td>\n",
       "      <td>11811.700354</td>\n",
       "      <td>11811.702059</td>\n",
       "      <td>...</td>\n",
       "      <td>11812.810527</td>\n",
       "      <td>11812.919074</td>\n",
       "      <td>11812.793815</td>\n",
       "      <td>11812.810694</td>\n",
       "      <td>11813.635825</td>\n",
       "      <td>11813.635825</td>\n",
       "      <td>0.112010</td>\n",
       "      <td>1282.587755</td>\n",
       "      <td>546.107290</td>\n",
       "      <td>2tar</td>\n",
       "    </tr>\n",
       "    <tr>\n",
       "      <th>515</th>\n",
       "      <td>516</td>\n",
       "      <td>1</td>\n",
       "      <td>0.141987</td>\n",
       "      <td>0.166735</td>\n",
       "      <td>0.141548</td>\n",
       "      <td>0.166735</td>\n",
       "      <td>0.016646</td>\n",
       "      <td>11813.635825</td>\n",
       "      <td>11815.419960</td>\n",
       "      <td>11815.427079</td>\n",
       "      <td>...</td>\n",
       "      <td>11816.594117</td>\n",
       "      <td>11816.735665</td>\n",
       "      <td>11816.618864</td>\n",
       "      <td>11816.635510</td>\n",
       "      <td>11817.452444</td>\n",
       "      <td>11817.452444</td>\n",
       "      <td>0.112056</td>\n",
       "      <td>1276.269388</td>\n",
       "      <td>542.145805</td>\n",
       "      <td>2tar</td>\n",
       "    </tr>\n",
       "    <tr>\n",
       "      <th>516</th>\n",
       "      <td>517</td>\n",
       "      <td>1</td>\n",
       "      <td>0.191629</td>\n",
       "      <td>0.124917</td>\n",
       "      <td>0.108523</td>\n",
       "      <td>0.124917</td>\n",
       "      <td>0.016709</td>\n",
       "      <td>11817.452444</td>\n",
       "      <td>11819.272498</td>\n",
       "      <td>11819.277135</td>\n",
       "      <td>...</td>\n",
       "      <td>11820.577321</td>\n",
       "      <td>11820.685844</td>\n",
       "      <td>11820.510609</td>\n",
       "      <td>11820.527318</td>\n",
       "      <td>11821.394004</td>\n",
       "      <td>11821.394004</td>\n",
       "      <td>0.112104</td>\n",
       "      <td>1356.828571</td>\n",
       "      <td>535.873453</td>\n",
       "      <td>2tar</td>\n",
       "    </tr>\n",
       "    <tr>\n",
       "      <th>517</th>\n",
       "      <td>518</td>\n",
       "      <td>1</td>\n",
       "      <td>0.175288</td>\n",
       "      <td>0.158496</td>\n",
       "      <td>0.116681</td>\n",
       "      <td>0.158496</td>\n",
       "      <td>0.016991</td>\n",
       "      <td>11821.394004</td>\n",
       "      <td>11823.174267</td>\n",
       "      <td>11823.177321</td>\n",
       "      <td>...</td>\n",
       "      <td>11824.394174</td>\n",
       "      <td>11824.510855</td>\n",
       "      <td>11824.377382</td>\n",
       "      <td>11824.394373</td>\n",
       "      <td>11825.219183</td>\n",
       "      <td>11825.219183</td>\n",
       "      <td>0.111729</td>\n",
       "      <td>1299.963265</td>\n",
       "      <td>527.950481</td>\n",
       "      <td>2tar</td>\n",
       "    </tr>\n",
       "  </tbody>\n",
       "</table>\n",
       "<p>518 rows × 25 columns</p>\n",
       "</div>"
      ],
      "text/plain": [
       "      id  success  rea_time  clean_rea  mov_time  sacc_rea  sacc_dur  \\\n",
       "0      1        0  0.225151   0.166566  0.125446  0.166566  0.008347   \n",
       "1      2        1  0.208560   0.166769  0.091754  0.166769  0.016736   \n",
       "2      3        1  0.208545   0.158556  0.133442  0.158556  0.016582   \n",
       "3      4        1  0.199718   0.166293  0.125505  0.166293  0.016671   \n",
       "4      5        0  0.191805   0.158395  0.116974  0.158395  0.016699   \n",
       "..   ...      ...       ...        ...       ...       ...       ...   \n",
       "513  514        1  0.166634   0.166829  0.166914  0.166829  0.016381   \n",
       "514  515        1  0.183254   0.166542  0.108547  0.166542  0.016879   \n",
       "515  516        1  0.141987   0.166735  0.141548  0.166735  0.016646   \n",
       "516  517        1  0.191629   0.124917  0.108523  0.124917  0.016709   \n",
       "517  518        1  0.175288   0.158496  0.116681  0.158496  0.016991   \n",
       "\n",
       "         initPixx       t_start       t1_draw  ...    t_movStart  \\\n",
       "0     9770.374053   9798.146839   9798.155845  ...   9799.806201   \n",
       "1     9800.589468   9802.531107   9802.539342  ...   9803.939481   \n",
       "2     9804.731091   9806.524613   9806.530916  ...   9807.714472   \n",
       "3     9808.506127   9810.290197   9810.297648  ...   9811.606166   \n",
       "4     9812.414546   9814.205123   9814.214351  ...   9815.381188   \n",
       "..            ...           ...           ...  ...           ...   \n",
       "513  11806.085537  11807.868818  11807.877044  ...  11809.018873   \n",
       "514  11809.860682  11811.700354  11811.702059  ...  11812.810527   \n",
       "515  11813.635825  11815.419960  11815.427079  ...  11816.594117   \n",
       "516  11817.452444  11819.272498  11819.277135  ...  11820.577321   \n",
       "517  11821.394004  11823.174267  11823.177321  ...  11824.394174   \n",
       "\n",
       "         t_movEnd   t_saccStart     t_saccEnd    t_feedback         t_end  \\\n",
       "0     9799.931647   9799.747616   9799.755963   9800.589468   9800.589468   \n",
       "1     9804.031235   9803.897689   9803.914425   9804.731091   9804.731091   \n",
       "2     9807.847913   9807.664482   9807.681065   9808.506127   9808.506127   \n",
       "3     9811.731671   9811.572741   9811.589412   9812.414546   9812.414546   \n",
       "4     9815.498162   9815.347778   9815.364477   9816.189650   9816.189650   \n",
       "..            ...           ...           ...           ...           ...   \n",
       "513  11809.185787  11809.019069  11809.035449  11809.860682  11809.860682   \n",
       "514  11812.919074  11812.793815  11812.810694  11813.635825  11813.635825   \n",
       "515  11816.735665  11816.618864  11816.635510  11817.452444  11817.452444   \n",
       "516  11820.685844  11820.510609  11820.527318  11821.394004  11821.394004   \n",
       "517  11824.510855  11824.377382  11824.394373  11825.219183  11825.219183   \n",
       "\n",
       "      mean_rt       touchX      touchY  version  \n",
       "0    0.100000   633.902041  562.613480     2tar  \n",
       "1    0.116566  1304.702041  557.991747     2tar  \n",
       "2    0.116667   617.053061  551.059147     2tar  \n",
       "3    0.113963  1312.073469  533.232462     2tar  \n",
       "4    0.114546  1311.546939  541.815681     2tar  \n",
       "..        ...          ...         ...      ...  \n",
       "513  0.111959   612.840816  552.709766     2tar  \n",
       "514  0.112010  1282.587755  546.107290     2tar  \n",
       "515  0.112056  1276.269388  542.145805     2tar  \n",
       "516  0.112104  1356.828571  535.873453     2tar  \n",
       "517  0.111729  1299.963265  527.950481     2tar  \n",
       "\n",
       "[518 rows x 25 columns]"
      ]
     },
     "execution_count": 11,
     "metadata": {},
     "output_type": "execute_result"
    }
   ],
   "source": [
    "import numpy as np\n",
    "import pandas as pd\n",
    "import matplotlib.pyplot as plt\n",
    "import seaborn as sns\n",
    "import scipy.stats as stats\n",
    "\n",
    "data_random = pd.read_csv('../1_Data/ck01_MI_dat.csv')\n",
    "data_2t_5deg = pd.read_csv('../1_Data/ck02_MI_dat.csv')\n",
    "data_2t_10deg = pd.read_csv('../1_Data/ck03_MI_dat.csv')\n",
    "data_2t_10deg_em = pd.read_csv('../1_Data/ck04_MI_dat.csv')\n",
    "\n",
    "data_2t_10deg_em"
   ]
  },
  {
   "cell_type": "code",
   "execution_count": 2,
   "metadata": {},
   "outputs": [
    {
     "data": {
      "image/png": "[encoded data removed]",
      "text/plain": [
       "<Figure size 432x288 with 1 Axes>"
      ]
     },
     "metadata": {
      "needs_background": "light"
     },
     "output_type": "display_data"
    }
   ],
   "source": [
    "# normalize all times to the \"go\" signal of the task (t2_draw)\n",
    "data = data_2t_10deg.copy()\n",
    "data['initPixx'] = data['initPixx'] - data['t2_draw']\n",
    "data['t_start'] = data['t_start'] - data['t2_draw']\n",
    "data['t1_draw'] = data['t1_draw'] - data['t2_draw']\n",
    "data['t2_draw'] = data['t2_draw'] - data['t2_draw']\n",
    "data['t_fixed'] = data['t_fixed'] - data['t2_draw']\n",
    "data['t_flash'] = data['t_flash'] - data['t2_draw']\n",
    "data['t_movStart'] = data['t_movStart'] - data['t2_draw']\n",
    "data['t_movEnd'] = data['t_movEnd'] - data['t2_draw']\n",
    "data['t_feedback'] = data['t_feedback'] - data['t2_draw']\n",
    "data['t_end'] = data['t_end'] - data['t2_draw']\n",
    "\n",
    "plt.hist(data.rea_time);"
   ]
  },
  {
   "cell_type": "code",
   "execution_count": 3,
   "metadata": {},
   "outputs": [
    {
     "data": {
      "image/png": "[encoded data removed]",
      "text/plain": [
       "<Figure size 432x288 with 1 Axes>"
      ]
     },
     "metadata": {
      "needs_background": "light"
     },
     "output_type": "display_data"
    }
   ],
   "source": [
    "# clean the dataset: remove all time trials where the reaction time is larger or smaller than 2 std\n",
    "# also, remove all unsuccessful trials\n",
    "# get standart deviation\n",
    "rea_std = np.std(data.rea_time)\n",
    "\n",
    "# get std as variation from mean\n",
    "rea_cut_high = np.mean(data.rea_time) + 2* rea_std\n",
    "rea_cut_low = np.mean(data.rea_time) - 2* rea_std\n",
    "\n",
    "# delete the rows with too low/high reaction times\n",
    "rm_idx = np.where((data.rea_time >= rea_cut_high) | (data.rea_time <= rea_cut_low))\n",
    "df = data.drop(rm_idx[0]).reset_index(drop = True)\n",
    "# delete rows with unsuccessful trials\n",
    "df = df.drop(np.where(df.success ==0)[0])\n",
    "# plot all trials together\n",
    "plt.hist(df.rea_time);"
   ]
  },
  {
   "cell_type": "code",
   "execution_count": 4,
   "metadata": {
    "scrolled": true
   },
   "outputs": [
    {
     "data": {
      "image/png": "[encoded data removed]",
      "text/plain": [
       "<Figure size 1008x216 with 2 Axes>"
      ]
     },
     "metadata": {
      "needs_background": "light"
     },
     "output_type": "display_data"
    }
   ],
   "source": [
    "# plot reaction times of flash - and no-flash trials seperately\n",
    "fig1, axs1 = plt.subplots(1,2, figsize  = (14,3), sharey = True)\n",
    "fig1.suptitle('Two Dot Version 10 deg, 100 ms flash delay')\n",
    "axs1[0].hist(df[np.isnan(df.t_flash)]['rea_time'], bins = 20, color = 'orange')\n",
    "axs1[0].set_xlim(0.1,0.35)\n",
    "axs1[0].set_xlabel('reaction time')\n",
    "axs1[0].set_ylabel('count')\n",
    "axs1[1].hist(df[np.isnan(df.t_flash)==False]['rea_time'], bins = 20, color = 'orange')\n",
    "axs1[1].set_xlim(0.1,0.35)\n",
    "axs1[1].set_xlabel('reaction time')\n",
    "\n",
    "plt.savefig('../3_Figures/2Dot_10deg_100ms.png')"
   ]
  },
  {
   "cell_type": "code",
   "execution_count": 5,
   "metadata": {},
   "outputs": [
    {
     "name": "stderr",
     "output_type": "stream",
     "text": [
      "C:\\Users\\ClaraQ\\anaconda3\\lib\\site-packages\\numpy\\lib\\histograms.py:839: RuntimeWarning: invalid value encountered in greater_equal\n",
      "  keep = (tmp_a >= first_edge)\n",
      "C:\\Users\\ClaraQ\\anaconda3\\lib\\site-packages\\numpy\\lib\\histograms.py:840: RuntimeWarning: invalid value encountered in less_equal\n",
      "  keep &= (tmp_a <= last_edge)\n"
     ]
    },
    {
     "data": {
      "image/png": "[encoded data removed]",
      "text/plain": [
       "<Figure size 432x288 with 1 Axes>"
      ]
     },
     "metadata": {
      "needs_background": "light"
     },
     "output_type": "display_data"
    }
   ],
   "source": [
    "# This doesn't look like a dip, but maybe the problem is that the flash was not always presented \n",
    "# at the same time relative to the movement onset. Lets check that\n",
    "\n",
    "df['flash_movement'] = df.t_movStart - df.t_flash\n",
    "p = plt.hist(df.flash_movement, bins =20, color = 'orange')\n",
    "plt.xlabel('movement onset relative to flash')\n",
    "plt.ylabel('count')\n",
    "plt.title('Two Dot, 10 deg, 100ms, Relative RT')\n",
    "\n",
    "plt.savefig('../3_Figures/Relative_2Dot_10deg_100ms.png')"
   ]
  },
  {
   "cell_type": "code",
   "execution_count": 6,
   "metadata": {
    "scrolled": true
   },
   "outputs": [
    {
     "name": "stdout",
     "output_type": "stream",
     "text": [
      "242\n",
      "231\n"
     ]
    },
    {
     "data": {
      "text/plain": [
       "Ks_2sampResult(statistic=0.1341991341991342, pvalue=0.03110043315144815)"
      ]
     },
     "execution_count": 6,
     "metadata": {},
     "output_type": "execute_result"
    }
   ],
   "source": [
    "# So we can see that there is a distribution of reaction times, centeres ar 30-50 ms (which is what we were looking for)\n",
    "# There are few negative times, which is good, bc it means that rarely was the flash shown after the hand already moved.\n",
    "# We don't see a dip in the responses as we would expect at around 50 - 70 ms\n",
    "# we can still compare if the reaction times differ between flash and no flash conditions\n",
    "flash_trials = df[np.isnan(df.t_flash)==False]['rea_time']\n",
    "no_flash_trials = df[np.isnan(df.t_flash)]['rea_time']\n",
    "\n",
    "print(len(flash_trials))\n",
    "print(len(no_flash_trials))\n",
    "\n",
    "flash_trials = np.random.choice(flash_trials, len(no_flash_trials))\n",
    "\n",
    "stats.ks_2samp(flash_trials,no_flash_trials)"
   ]
  },
  {
   "cell_type": "markdown",
   "metadata": {},
   "source": [
    "Conclusion: we find no evidence for manual freezing in the response times. Let's have a look at the duration of the movement instead of the latency"
   ]
  },
  {
   "cell_type": "code",
   "execution_count": 7,
   "metadata": {},
   "outputs": [
    {
     "data": {
      "image/png": "[encoded data removed]",
      "text/plain": [
       "<Figure size 432x288 with 1 Axes>"
      ]
     },
     "metadata": {
      "needs_background": "light"
     },
     "output_type": "display_data"
    }
   ],
   "source": [
    "plt.hist(df.mov_time);"
   ]
  },
  {
   "cell_type": "code",
   "execution_count": 8,
   "metadata": {},
   "outputs": [
    {
     "data": {
      "image/png": "[encoded data removed]",
      "text/plain": [
       "<Figure size 432x288 with 1 Axes>"
      ]
     },
     "metadata": {
      "needs_background": "light"
     },
     "output_type": "display_data"
    }
   ],
   "source": [
    "mov_std = np.std(df.mov_time)\n",
    "\n",
    "# get std as variation from mean\n",
    "mov_cut_high = np.mean(data.mov_time) + 2* mov_std\n",
    "mov_cut_low = np.mean(data.mov_time) - 2* mov_std\n",
    "\n",
    "# delete the rows with too low/high reaction times\n",
    "rm_idx = np.where((data.mov_time >= mov_cut_high) | (data.mov_time <= mov_cut_low))\n",
    "df = data.drop(rm_idx[0]).reset_index(drop = True)\n",
    "# plot all trials together\n",
    "plt.hist(df.mov_time, bins = 5);"
   ]
  },
  {
   "cell_type": "code",
   "execution_count": 9,
   "metadata": {},
   "outputs": [
    {
     "data": {
      "image/png": "[encoded data removed]",
      "text/plain": [
       "<Figure size 1008x216 with 2 Axes>"
      ]
     },
     "metadata": {
      "needs_background": "light"
     },
     "output_type": "display_data"
    }
   ],
   "source": [
    "fig2, axs2 = plt.subplots(1,2, figsize = (14,3))\n",
    "axs2[0].hist(df[np.isnan(df.t_flash)]['mov_time'], bins = 5)\n",
    "axs2[1].hist(df[np.isnan(df.t_flash)==False]['mov_time'], bins = 5);"
   ]
  },
  {
   "cell_type": "code",
   "execution_count": 10,
   "metadata": {},
   "outputs": [
    {
     "data": {
      "image/png": "[encoded data removed]",
      "text/plain": [
       "<Figure size 432x288 with 1 Axes>"
      ]
     },
     "metadata": {
      "needs_background": "light"
     },
     "output_type": "display_data"
    }
   ],
   "source": [
    "# correct the movement durations and show them realtive to flash onset \n",
    "\n",
    "mov_flash = df.t_movEnd - df.t_flash\n",
    "mov_flash = mov_flash[mov_flash<0.5]\n",
    "plt.hist(mov_flash);"
   ]
  },
  {
   "cell_type": "code",
   "execution_count": 15,
   "metadata": {},
   "outputs": [
    {
     "data": {
      "image/png": "[encoded data removed]",
      "text/plain": [
       "<Figure size 1080x288 with 3 Axes>"
      ]
     },
     "metadata": {
      "needs_background": "light"
     },
     "output_type": "display_data"
    }
   ],
   "source": [
    "em_data = data_2t_10deg_em.copy()\n",
    "\n",
    "# explore the eye movement and manual reaction times\n",
    "# first: plot the distribution of eye and hand movements and the realtionship between them\n",
    "\n",
    "fig3, axs3 = plt.subplots(1,3, figsize=(15,4))\n",
    "\n",
    "axs3[0].hist(em_data.rea_time)\n",
    "axs3[1].hist(em_data.sacc_rea)\n",
    "axs3[2].scatter(em_data.rea_time,em_data.sacc_rea);"
   ]
  },
  {
   "cell_type": "code",
   "execution_count": 16,
   "metadata": {},
   "outputs": [
    {
     "data": {
      "image/png": "[encoded data removed]",
      "text/plain": [
       "<Figure size 1080x288 with 3 Axes>"
      ]
     },
     "metadata": {
      "needs_background": "light"
     },
     "output_type": "display_data"
    }
   ],
   "source": [
    "# lets clean this dataset\n",
    "# clean the dataset: remove all time trials where the reaction time is larger or smaller than 2 std\n",
    "# also, remove all unsuccessful trials\n",
    "# get standart deviation\n",
    "rea_std = np.std(em_data.rea_time)\n",
    "sacc_std = np.std(em_data.sacc_rea)\n",
    "\n",
    "# get std as variation from mean\n",
    "rea_cut_high = np.mean(em_data.rea_time) + 2* rea_std\n",
    "rea_cut_low = np.mean(em_data.rea_time) - 2* rea_std\n",
    "sacc_cut_high = np.mean(em_data.sacc_rea) + 2* rea_std\n",
    "sacc_cut_low = np.mean(em_data.sacc_rea) - 2* rea_std\n",
    "\n",
    "# delete the rows with too low/high reaction times\n",
    "rm_idx = np.where((((em_data.rea_time >= rea_cut_high) | (em_data.rea_time <= rea_cut_low))|(em_data.sacc_rea >= sacc_cut_high) )| (em_data.sacc_rea <= sacc_cut_low))\n",
    "df = em_data.drop(rm_idx[0]).reset_index(drop = True)\n",
    "# delete rows with unsuccessful trials\n",
    "df = df.drop(np.where(df.success ==0)[0])\n",
    "# plot all trials together\n",
    "fig4, axs4 = plt.subplots(1,3, figsize=(15,4))\n",
    "\n",
    "axs4[0].hist(df.rea_time)\n",
    "axs4[1].hist(df.sacc_rea)\n",
    "axs4[2].scatter(df.rea_time,df.sacc_rea);"
   ]
  },
  {
   "cell_type": "code",
   "execution_count": 35,
   "metadata": {},
   "outputs": [
    {
     "data": {
      "text/plain": [
       "<matplotlib.collections.PathCollection at 0x24228d23c08>"
      ]
     },
     "execution_count": 35,
     "metadata": {},
     "output_type": "execute_result"
    },
    {
     "data": {
      "image/png": "[encoded data removed]",
      "text/plain": [
       "<Figure size 1080x720 with 6 Axes>"
      ]
     },
     "metadata": {
      "needs_background": "light"
     },
     "output_type": "display_data"
    }
   ],
   "source": [
    "# let's see if we find differences in the distributions of flash and no-flash trials\n",
    "\n",
    "flash_trials = np.isnan(df.t_flash)==False\n",
    "no_flash_trials = np.isnan(df.t_flash)\n",
    "\n",
    "fig5, axs5 = plt.subplots(2,3, figsize = (15,10), sharey = 'col', sharex = 'all')\n",
    "\n",
    "axs5[0,0].hist(df[flash_trials]['rea_time'])\n",
    "axs5[1,0].hist(df[no_flash_trials]['rea_time'])\n",
    "axs5[0,2].scatter(df[flash_trials]['rea_time'],df[flash_trials]['sacc_rea'])\n",
    "\n",
    "axs5[0,1].hist(df[flash_trials]['sacc_rea'])\n",
    "axs5[1,1].hist(df[no_flash_trials]['sacc_rea'])\n",
    "axs5[1,2].scatter(df[no_flash_trials]['rea_time'],df[no_flash_trials]['sacc_rea'])"
   ]
  },
  {
   "cell_type": "code",
   "execution_count": 42,
   "metadata": {},
   "outputs": [
    {
     "data": {
      "image/png": "[encoded data removed]",
      "text/plain": [
       "<Figure size 720x720 with 4 Axes>"
      ]
     },
     "metadata": {
      "needs_background": "light"
     },
     "output_type": "display_data"
    }
   ],
   "source": [
    "# express these values realtive to the flash onset\n",
    "flash_on = df.t_flash[flash_trials] - df.t2_draw[flash_trials]\n",
    "\n",
    "fig6, axs6 = plt.subplots(2,2, figsize = (10,10), sharex = True, sharey = True)\n",
    "\n",
    "axs6[0,0].hist(df[no_flash_trials]['rea_time'] - df.mean_rt[no_flash_trials], bins =15)\n",
    "axs6[0,1].hist(df[no_flash_trials]['sacc_rea'] - df.mean_rt[no_flash_trials], bins =15)\n",
    "axs6[1,0].hist(df[flash_trials]['rea_time'] - df.mean_rt[flash_trials], bins =15)\n",
    "axs6[1,1].hist(df[flash_trials]['sacc_rea'] - df.mean_rt[flash_trials], bins =15);"
   ]
  },
  {
   "cell_type": "code",
   "execution_count": 39,
   "metadata": {},
   "outputs": [
    {
     "data": {
      "text/plain": [
       "<matplotlib.collections.PathCollection at 0x24228bdf888>"
      ]
     },
     "execution_count": 39,
     "metadata": {},
     "output_type": "execute_result"
    },
    {
     "data": {
      "image/png": "[encoded data removed]",
      "text/plain": [
       "<Figure size 432x288 with 1 Axes>"
      ]
     },
     "metadata": {
      "needs_background": "light"
     },
     "output_type": "display_data"
    }
   ],
   "source": [
    "plt.scatter(df.mean_rt, (df.t_flash - df.t2_draw))"
   ]
  },
  {
   "cell_type": "code",
   "execution_count": 44,
   "metadata": {},
   "outputs": [
    {
     "data": {
      "text/html": [
       "<div>\n",
       "<style scoped>\n",
       "    .dataframe tbody tr th:only-of-type {\n",
       "        vertical-align: middle;\n",
       "    }\n",
       "\n",
       "    .dataframe tbody tr th {\n",
       "        vertical-align: top;\n",
       "    }\n",
       "\n",
       "    .dataframe thead th {\n",
       "        text-align: right;\n",
       "    }\n",
       "</style>\n",
       "<table border=\"1\" class=\"dataframe\">\n",
       "  <thead>\n",
       "    <tr style=\"text-align: right;\">\n",
       "      <th></th>\n",
       "      <th>id</th>\n",
       "      <th>success</th>\n",
       "      <th>rea_time</th>\n",
       "      <th>clean_rea</th>\n",
       "      <th>mov_time</th>\n",
       "      <th>sacc_rea</th>\n",
       "      <th>sacc_dur</th>\n",
       "      <th>initPixx</th>\n",
       "      <th>t_start</th>\n",
       "      <th>t1_draw</th>\n",
       "      <th>...</th>\n",
       "      <th>t_flash</th>\n",
       "      <th>t_movStart</th>\n",
       "      <th>t_movEnd</th>\n",
       "      <th>t_saccStart</th>\n",
       "      <th>t_saccEnd</th>\n",
       "      <th>t_feedback</th>\n",
       "      <th>t_end</th>\n",
       "      <th>touchX</th>\n",
       "      <th>touchY</th>\n",
       "      <th>version</th>\n",
       "    </tr>\n",
       "  </thead>\n",
       "  <tbody>\n",
       "    <tr>\n",
       "      <th>0</th>\n",
       "      <td>1</td>\n",
       "      <td>1</td>\n",
       "      <td>NaN</td>\n",
       "      <td>0.191593</td>\n",
       "      <td>NaN</td>\n",
       "      <td>0.191593</td>\n",
       "      <td>0.016696</td>\n",
       "      <td>20043.011776</td>\n",
       "      <td>20061.269881</td>\n",
       "      <td>20061.276830</td>\n",
       "      <td>...</td>\n",
       "      <td>20062.118583</td>\n",
       "      <td>NaN</td>\n",
       "      <td>NaN</td>\n",
       "      <td>20062.276929</td>\n",
       "      <td>20062.293625</td>\n",
       "      <td>20063.093740</td>\n",
       "      <td>20063.093740</td>\n",
       "      <td>NaN</td>\n",
       "      <td>NaN</td>\n",
       "      <td>em_only</td>\n",
       "    </tr>\n",
       "    <tr>\n",
       "      <th>1</th>\n",
       "      <td>2</td>\n",
       "      <td>1</td>\n",
       "      <td>NaN</td>\n",
       "      <td>0.233457</td>\n",
       "      <td>NaN</td>\n",
       "      <td>0.233457</td>\n",
       "      <td>0.008378</td>\n",
       "      <td>20063.093740</td>\n",
       "      <td>20064.999133</td>\n",
       "      <td>20065.001930</td>\n",
       "      <td>...</td>\n",
       "      <td>20065.568703</td>\n",
       "      <td>NaN</td>\n",
       "      <td>NaN</td>\n",
       "      <td>20065.752035</td>\n",
       "      <td>20065.760413</td>\n",
       "      <td>20066.518729</td>\n",
       "      <td>20066.518729</td>\n",
       "      <td>NaN</td>\n",
       "      <td>NaN</td>\n",
       "      <td>em_only</td>\n",
       "    </tr>\n",
       "    <tr>\n",
       "      <th>2</th>\n",
       "      <td>3</td>\n",
       "      <td>1</td>\n",
       "      <td>NaN</td>\n",
       "      <td>0.158171</td>\n",
       "      <td>NaN</td>\n",
       "      <td>0.158171</td>\n",
       "      <td>0.016656</td>\n",
       "      <td>20066.518729</td>\n",
       "      <td>20068.306794</td>\n",
       "      <td>20068.310253</td>\n",
       "      <td>...</td>\n",
       "      <td>NaN</td>\n",
       "      <td>NaN</td>\n",
       "      <td>NaN</td>\n",
       "      <td>20069.185408</td>\n",
       "      <td>20069.202064</td>\n",
       "      <td>20070.035469</td>\n",
       "      <td>20070.035469</td>\n",
       "      <td>NaN</td>\n",
       "      <td>NaN</td>\n",
       "      <td>em_only</td>\n",
       "    </tr>\n",
       "    <tr>\n",
       "      <th>3</th>\n",
       "      <td>4</td>\n",
       "      <td>1</td>\n",
       "      <td>NaN</td>\n",
       "      <td>0.208136</td>\n",
       "      <td>NaN</td>\n",
       "      <td>0.208136</td>\n",
       "      <td>0.016682</td>\n",
       "      <td>20070.035469</td>\n",
       "      <td>20071.817754</td>\n",
       "      <td>20071.826993</td>\n",
       "      <td>...</td>\n",
       "      <td>20072.527057</td>\n",
       "      <td>NaN</td>\n",
       "      <td>NaN</td>\n",
       "      <td>20072.668709</td>\n",
       "      <td>20072.685391</td>\n",
       "      <td>20073.468836</td>\n",
       "      <td>20073.468836</td>\n",
       "      <td>NaN</td>\n",
       "      <td>NaN</td>\n",
       "      <td>em_only</td>\n",
       "    </tr>\n",
       "    <tr>\n",
       "      <th>4</th>\n",
       "      <td>5</td>\n",
       "      <td>1</td>\n",
       "      <td>NaN</td>\n",
       "      <td>0.216810</td>\n",
       "      <td>NaN</td>\n",
       "      <td>0.216810</td>\n",
       "      <td>0.016580</td>\n",
       "      <td>20073.468836</td>\n",
       "      <td>20075.255158</td>\n",
       "      <td>20075.260361</td>\n",
       "      <td>...</td>\n",
       "      <td>20075.935437</td>\n",
       "      <td>NaN</td>\n",
       "      <td>NaN</td>\n",
       "      <td>20076.085498</td>\n",
       "      <td>20076.102078</td>\n",
       "      <td>20076.868909</td>\n",
       "      <td>20076.868909</td>\n",
       "      <td>NaN</td>\n",
       "      <td>NaN</td>\n",
       "      <td>em_only</td>\n",
       "    </tr>\n",
       "    <tr>\n",
       "      <th>...</th>\n",
       "      <td>...</td>\n",
       "      <td>...</td>\n",
       "      <td>...</td>\n",
       "      <td>...</td>\n",
       "      <td>...</td>\n",
       "      <td>...</td>\n",
       "      <td>...</td>\n",
       "      <td>...</td>\n",
       "      <td>...</td>\n",
       "      <td>...</td>\n",
       "      <td>...</td>\n",
       "      <td>...</td>\n",
       "      <td>...</td>\n",
       "      <td>...</td>\n",
       "      <td>...</td>\n",
       "      <td>...</td>\n",
       "      <td>...</td>\n",
       "      <td>...</td>\n",
       "      <td>...</td>\n",
       "      <td>...</td>\n",
       "      <td>...</td>\n",
       "    </tr>\n",
       "    <tr>\n",
       "      <th>506</th>\n",
       "      <td>507</td>\n",
       "      <td>1</td>\n",
       "      <td>NaN</td>\n",
       "      <td>0.200125</td>\n",
       "      <td>NaN</td>\n",
       "      <td>0.200125</td>\n",
       "      <td>0.016751</td>\n",
       "      <td>21842.438605</td>\n",
       "      <td>21844.222680</td>\n",
       "      <td>21844.229966</td>\n",
       "      <td>...</td>\n",
       "      <td>21844.955129</td>\n",
       "      <td>NaN</td>\n",
       "      <td>NaN</td>\n",
       "      <td>21845.130134</td>\n",
       "      <td>21845.146886</td>\n",
       "      <td>21845.930262</td>\n",
       "      <td>21845.930262</td>\n",
       "      <td>NaN</td>\n",
       "      <td>NaN</td>\n",
       "      <td>em_only</td>\n",
       "    </tr>\n",
       "    <tr>\n",
       "      <th>507</th>\n",
       "      <td>508</td>\n",
       "      <td>1</td>\n",
       "      <td>NaN</td>\n",
       "      <td>0.200092</td>\n",
       "      <td>NaN</td>\n",
       "      <td>0.200092</td>\n",
       "      <td>0.016673</td>\n",
       "      <td>21845.930262</td>\n",
       "      <td>21847.716288</td>\n",
       "      <td>21847.721671</td>\n",
       "      <td>...</td>\n",
       "      <td>21848.838498</td>\n",
       "      <td>NaN</td>\n",
       "      <td>NaN</td>\n",
       "      <td>21848.855113</td>\n",
       "      <td>21848.871786</td>\n",
       "      <td>21849.655227</td>\n",
       "      <td>21849.655227</td>\n",
       "      <td>NaN</td>\n",
       "      <td>NaN</td>\n",
       "      <td>em_only</td>\n",
       "    </tr>\n",
       "    <tr>\n",
       "      <th>508</th>\n",
       "      <td>509</td>\n",
       "      <td>1</td>\n",
       "      <td>NaN</td>\n",
       "      <td>0.183425</td>\n",
       "      <td>NaN</td>\n",
       "      <td>0.183425</td>\n",
       "      <td>0.016740</td>\n",
       "      <td>21849.655227</td>\n",
       "      <td>21851.435020</td>\n",
       "      <td>21851.438398</td>\n",
       "      <td>...</td>\n",
       "      <td>21852.396947</td>\n",
       "      <td>NaN</td>\n",
       "      <td>NaN</td>\n",
       "      <td>21852.380207</td>\n",
       "      <td>21852.396947</td>\n",
       "      <td>21853.197202</td>\n",
       "      <td>21853.197202</td>\n",
       "      <td>NaN</td>\n",
       "      <td>NaN</td>\n",
       "      <td>em_only</td>\n",
       "    </tr>\n",
       "    <tr>\n",
       "      <th>509</th>\n",
       "      <td>510</td>\n",
       "      <td>1</td>\n",
       "      <td>NaN</td>\n",
       "      <td>0.225120</td>\n",
       "      <td>NaN</td>\n",
       "      <td>0.225120</td>\n",
       "      <td>0.016675</td>\n",
       "      <td>21853.197202</td>\n",
       "      <td>21854.982798</td>\n",
       "      <td>21854.988412</td>\n",
       "      <td>...</td>\n",
       "      <td>NaN</td>\n",
       "      <td>NaN</td>\n",
       "      <td>NaN</td>\n",
       "      <td>21855.738601</td>\n",
       "      <td>21855.755277</td>\n",
       "      <td>21856.513714</td>\n",
       "      <td>21856.513714</td>\n",
       "      <td>NaN</td>\n",
       "      <td>NaN</td>\n",
       "      <td>em_only</td>\n",
       "    </tr>\n",
       "    <tr>\n",
       "      <th>510</th>\n",
       "      <td>511</td>\n",
       "      <td>1</td>\n",
       "      <td>NaN</td>\n",
       "      <td>0.200077</td>\n",
       "      <td>NaN</td>\n",
       "      <td>0.200077</td>\n",
       "      <td>0.016626</td>\n",
       "      <td>21856.513714</td>\n",
       "      <td>21858.295444</td>\n",
       "      <td>21858.296796</td>\n",
       "      <td>...</td>\n",
       "      <td>NaN</td>\n",
       "      <td>NaN</td>\n",
       "      <td>NaN</td>\n",
       "      <td>21859.255244</td>\n",
       "      <td>21859.271870</td>\n",
       "      <td>21860.055326</td>\n",
       "      <td>21860.055326</td>\n",
       "      <td>NaN</td>\n",
       "      <td>NaN</td>\n",
       "      <td>em_only</td>\n",
       "    </tr>\n",
       "  </tbody>\n",
       "</table>\n",
       "<p>511 rows × 24 columns</p>\n",
       "</div>"
      ],
      "text/plain": [
       "      id  success  rea_time  clean_rea  mov_time  sacc_rea  sacc_dur  \\\n",
       "0      1        1       NaN   0.191593       NaN  0.191593  0.016696   \n",
       "1      2        1       NaN   0.233457       NaN  0.233457  0.008378   \n",
       "2      3        1       NaN   0.158171       NaN  0.158171  0.016656   \n",
       "3      4        1       NaN   0.208136       NaN  0.208136  0.016682   \n",
       "4      5        1       NaN   0.216810       NaN  0.216810  0.016580   \n",
       "..   ...      ...       ...        ...       ...       ...       ...   \n",
       "506  507        1       NaN   0.200125       NaN  0.200125  0.016751   \n",
       "507  508        1       NaN   0.200092       NaN  0.200092  0.016673   \n",
       "508  509        1       NaN   0.183425       NaN  0.183425  0.016740   \n",
       "509  510        1       NaN   0.225120       NaN  0.225120  0.016675   \n",
       "510  511        1       NaN   0.200077       NaN  0.200077  0.016626   \n",
       "\n",
       "         initPixx       t_start       t1_draw  ...       t_flash  t_movStart  \\\n",
       "0    20043.011776  20061.269881  20061.276830  ...  20062.118583         NaN   \n",
       "1    20063.093740  20064.999133  20065.001930  ...  20065.568703         NaN   \n",
       "2    20066.518729  20068.306794  20068.310253  ...           NaN         NaN   \n",
       "3    20070.035469  20071.817754  20071.826993  ...  20072.527057         NaN   \n",
       "4    20073.468836  20075.255158  20075.260361  ...  20075.935437         NaN   \n",
       "..            ...           ...           ...  ...           ...         ...   \n",
       "506  21842.438605  21844.222680  21844.229966  ...  21844.955129         NaN   \n",
       "507  21845.930262  21847.716288  21847.721671  ...  21848.838498         NaN   \n",
       "508  21849.655227  21851.435020  21851.438398  ...  21852.396947         NaN   \n",
       "509  21853.197202  21854.982798  21854.988412  ...           NaN         NaN   \n",
       "510  21856.513714  21858.295444  21858.296796  ...           NaN         NaN   \n",
       "\n",
       "     t_movEnd   t_saccStart     t_saccEnd    t_feedback         t_end  touchX  \\\n",
       "0         NaN  20062.276929  20062.293625  20063.093740  20063.093740     NaN   \n",
       "1         NaN  20065.752035  20065.760413  20066.518729  20066.518729     NaN   \n",
       "2         NaN  20069.185408  20069.202064  20070.035469  20070.035469     NaN   \n",
       "3         NaN  20072.668709  20072.685391  20073.468836  20073.468836     NaN   \n",
       "4         NaN  20076.085498  20076.102078  20076.868909  20076.868909     NaN   \n",
       "..        ...           ...           ...           ...           ...     ...   \n",
       "506       NaN  21845.130134  21845.146886  21845.930262  21845.930262     NaN   \n",
       "507       NaN  21848.855113  21848.871786  21849.655227  21849.655227     NaN   \n",
       "508       NaN  21852.380207  21852.396947  21853.197202  21853.197202     NaN   \n",
       "509       NaN  21855.738601  21855.755277  21856.513714  21856.513714     NaN   \n",
       "510       NaN  21859.255244  21859.271870  21860.055326  21860.055326     NaN   \n",
       "\n",
       "     touchY  version  \n",
       "0       NaN  em_only  \n",
       "1       NaN  em_only  \n",
       "2       NaN  em_only  \n",
       "3       NaN  em_only  \n",
       "4       NaN  em_only  \n",
       "..      ...      ...  \n",
       "506     NaN  em_only  \n",
       "507     NaN  em_only  \n",
       "508     NaN  em_only  \n",
       "509     NaN  em_only  \n",
       "510     NaN  em_only  \n",
       "\n",
       "[511 rows x 24 columns]"
      ]
     },
     "execution_count": 44,
     "metadata": {},
     "output_type": "execute_result"
    }
   ],
   "source": [
    "# final version: only eye movements, variable flash times\n",
    "em_only = pd.read_csv('../1_Data/ck05_MI_dat.csv')\n",
    "em_only"
   ]
  },
  {
   "cell_type": "code",
   "execution_count": 50,
   "metadata": {},
   "outputs": [
    {
     "data": {
      "image/png": "[encoded data removed]",
      "text/plain": [
       "<Figure size 432x288 with 1 Axes>"
      ]
     },
     "metadata": {
      "needs_background": "light"
     },
     "output_type": "display_data"
    }
   ],
   "source": [
    "plt.hist(em_only.t_saccStart - em_only.t_flash, bins = 30);"
   ]
  }
 ],
 "metadata": {
  "kernelspec": {
   "display_name": "Python 3",
   "language": "python",
   "name": "python3"
  },
  "language_info": {
   "codemirror_mode": {
    "name": "ipython",
    "version": 3
   },
   "file_extension": ".py",
   "mimetype": "text/x-python",
   "name": "python",
   "nbconvert_exporter": "python",
   "pygments_lexer": "ipython3",
   "version": "3.7.6"
  }
 },
 "nbformat": 4,
 "nbformat_minor": 4
}
