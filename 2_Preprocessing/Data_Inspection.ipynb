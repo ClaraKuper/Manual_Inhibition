{
 "cells": [
  {
   "cell_type": "markdown",
   "metadata": {},
   "source": [
    "Inspecting data from a manual inhibition paradigm\n",
    "\n",
    "Clara Kuper, January 2021\n",
    "\n",
    "In this task, one obeserver made radip hand movements from one point to another. In half of the trials, the upper and lower third of the screen turned white for 50ms. This \"flash\" occured 50 ms before the mean reaction time. This delay is known to elicit saccadic inhibition (a dip in the distribution of saccadic reaction times). We want to see if the same is true fo manual responses.\n",
    "\n",
    "In this notebook, I will:\n",
    "\n",
    "1. Load the data from the experiment\n",
    "2. Look at the reaction time distributions from flash and no-flash conditions\n",
    "3. Clean the reaction time data\n",
    "4. Align the reaction times to the onset of the flash and check again for the distribution\n",
    "5. Compare the flash and no flash condition statistically"
   ]
  },
  {
   "cell_type": "code",
   "execution_count": 33,
   "metadata": {},
   "outputs": [
    {
     "data": {
      "text/html": [
       "<div>\n",
       "<style scoped>\n",
       "    .dataframe tbody tr th:only-of-type {\n",
       "        vertical-align: middle;\n",
       "    }\n",
       "\n",
       "    .dataframe tbody tr th {\n",
       "        vertical-align: top;\n",
       "    }\n",
       "\n",
       "    .dataframe thead th {\n",
       "        text-align: right;\n",
       "    }\n",
       "</style>\n",
       "<table border=\"1\" class=\"dataframe\">\n",
       "  <thead>\n",
       "    <tr style=\"text-align: right;\">\n",
       "      <th></th>\n",
       "      <th>id</th>\n",
       "      <th>success</th>\n",
       "      <th>rea_time</th>\n",
       "      <th>clean_rea</th>\n",
       "      <th>mov_time</th>\n",
       "      <th>initPixx</th>\n",
       "      <th>t_start</th>\n",
       "      <th>t1_draw</th>\n",
       "      <th>t2_draw</th>\n",
       "      <th>t_fixed</th>\n",
       "      <th>t_flash</th>\n",
       "      <th>t_movStart</th>\n",
       "      <th>t_movEnd</th>\n",
       "      <th>t_feedback</th>\n",
       "      <th>t_end</th>\n",
       "      <th>mean_rt</th>\n",
       "      <th>touchX</th>\n",
       "      <th>touchY</th>\n",
       "      <th>version</th>\n",
       "    </tr>\n",
       "  </thead>\n",
       "  <tbody>\n",
       "    <tr>\n",
       "      <th>0</th>\n",
       "      <td>1</td>\n",
       "      <td>1</td>\n",
       "      <td>0.216861</td>\n",
       "      <td>0.216861</td>\n",
       "      <td>0.150080</td>\n",
       "      <td>3907.853288</td>\n",
       "      <td>3912.872179</td>\n",
       "      <td>3912.877361</td>\n",
       "      <td>3914.335708</td>\n",
       "      <td>3913.603225</td>\n",
       "      <td>3914.443982</td>\n",
       "      <td>3914.552569</td>\n",
       "      <td>3914.702649</td>\n",
       "      <td>3915.344097</td>\n",
       "      <td>3915.344097</td>\n",
       "      <td>0.100000</td>\n",
       "      <td>652.595001</td>\n",
       "      <td>553.540128</td>\n",
       "      <td>2tar</td>\n",
       "    </tr>\n",
       "    <tr>\n",
       "      <th>1</th>\n",
       "      <td>2</td>\n",
       "      <td>1</td>\n",
       "      <td>0.225113</td>\n",
       "      <td>0.225113</td>\n",
       "      <td>0.116860</td>\n",
       "      <td>3915.344097</td>\n",
       "      <td>3917.181663</td>\n",
       "      <td>3917.185709</td>\n",
       "      <td>3918.143990</td>\n",
       "      <td>3917.552525</td>\n",
       "      <td>NaN</td>\n",
       "      <td>3918.369103</td>\n",
       "      <td>3918.485963</td>\n",
       "      <td>3919.144099</td>\n",
       "      <td>3919.144099</td>\n",
       "      <td>0.116861</td>\n",
       "      <td>1269.152611</td>\n",
       "      <td>528.193008</td>\n",
       "      <td>2tar</td>\n",
       "    </tr>\n",
       "    <tr>\n",
       "      <th>2</th>\n",
       "      <td>3</td>\n",
       "      <td>1</td>\n",
       "      <td>0.241754</td>\n",
       "      <td>0.241754</td>\n",
       "      <td>0.100089</td>\n",
       "      <td>3919.144099</td>\n",
       "      <td>3920.873231</td>\n",
       "      <td>3920.877356</td>\n",
       "      <td>3921.810724</td>\n",
       "      <td>3921.219888</td>\n",
       "      <td>NaN</td>\n",
       "      <td>3922.052478</td>\n",
       "      <td>3922.152567</td>\n",
       "      <td>3922.819164</td>\n",
       "      <td>3922.819164</td>\n",
       "      <td>0.120987</td>\n",
       "      <td>1321.580979</td>\n",
       "      <td>519.419005</td>\n",
       "      <td>2tar</td>\n",
       "    </tr>\n",
       "    <tr>\n",
       "      <th>3</th>\n",
       "      <td>4</td>\n",
       "      <td>1</td>\n",
       "      <td>0.200115</td>\n",
       "      <td>0.200115</td>\n",
       "      <td>0.108668</td>\n",
       "      <td>3922.819164</td>\n",
       "      <td>3924.542649</td>\n",
       "      <td>3924.544132</td>\n",
       "      <td>3925.544065</td>\n",
       "      <td>3924.835981</td>\n",
       "      <td>3925.677440</td>\n",
       "      <td>3925.744180</td>\n",
       "      <td>3925.852847</td>\n",
       "      <td>3926.544165</td>\n",
       "      <td>3926.544165</td>\n",
       "      <td>0.127909</td>\n",
       "      <td>1300.609632</td>\n",
       "      <td>525.918267</td>\n",
       "      <td>2tar</td>\n",
       "    </tr>\n",
       "    <tr>\n",
       "      <th>4</th>\n",
       "      <td>5</td>\n",
       "      <td>1</td>\n",
       "      <td>0.216792</td>\n",
       "      <td>0.216792</td>\n",
       "      <td>0.133425</td>\n",
       "      <td>3926.544165</td>\n",
       "      <td>3928.273308</td>\n",
       "      <td>3928.277424</td>\n",
       "      <td>3929.244094</td>\n",
       "      <td>3928.544326</td>\n",
       "      <td>3929.369144</td>\n",
       "      <td>3929.460885</td>\n",
       "      <td>3929.594311</td>\n",
       "      <td>3930.244261</td>\n",
       "      <td>3930.244261</td>\n",
       "      <td>0.120961</td>\n",
       "      <td>638.963625</td>\n",
       "      <td>522.343673</td>\n",
       "      <td>2tar</td>\n",
       "    </tr>\n",
       "    <tr>\n",
       "      <th>...</th>\n",
       "      <td>...</td>\n",
       "      <td>...</td>\n",
       "      <td>...</td>\n",
       "      <td>...</td>\n",
       "      <td>...</td>\n",
       "      <td>...</td>\n",
       "      <td>...</td>\n",
       "      <td>...</td>\n",
       "      <td>...</td>\n",
       "      <td>...</td>\n",
       "      <td>...</td>\n",
       "      <td>...</td>\n",
       "      <td>...</td>\n",
       "      <td>...</td>\n",
       "      <td>...</td>\n",
       "      <td>...</td>\n",
       "      <td>...</td>\n",
       "      <td>...</td>\n",
       "      <td>...</td>\n",
       "    </tr>\n",
       "    <tr>\n",
       "      <th>501</th>\n",
       "      <td>502</td>\n",
       "      <td>1</td>\n",
       "      <td>0.216517</td>\n",
       "      <td>0.216517</td>\n",
       "      <td>0.116744</td>\n",
       "      <td>5850.806296</td>\n",
       "      <td>5852.528015</td>\n",
       "      <td>5852.531256</td>\n",
       "      <td>5853.456471</td>\n",
       "      <td>5852.906556</td>\n",
       "      <td>5853.564563</td>\n",
       "      <td>5853.672988</td>\n",
       "      <td>5853.789732</td>\n",
       "      <td>5854.464683</td>\n",
       "      <td>5854.464683</td>\n",
       "      <td>0.106458</td>\n",
       "      <td>1322.105263</td>\n",
       "      <td>527.868045</td>\n",
       "      <td>2tar</td>\n",
       "    </tr>\n",
       "    <tr>\n",
       "      <th>502</th>\n",
       "      <td>503</td>\n",
       "      <td>1</td>\n",
       "      <td>0.183434</td>\n",
       "      <td>0.183434</td>\n",
       "      <td>0.133440</td>\n",
       "      <td>5854.464683</td>\n",
       "      <td>5856.187103</td>\n",
       "      <td>5856.189557</td>\n",
       "      <td>5857.056244</td>\n",
       "      <td>5856.481423</td>\n",
       "      <td>NaN</td>\n",
       "      <td>5857.239678</td>\n",
       "      <td>5857.373118</td>\n",
       "      <td>5858.056364</td>\n",
       "      <td>5858.056364</td>\n",
       "      <td>0.106567</td>\n",
       "      <td>1260.764072</td>\n",
       "      <td>543.791236</td>\n",
       "      <td>2tar</td>\n",
       "    </tr>\n",
       "    <tr>\n",
       "      <th>503</th>\n",
       "      <td>504</td>\n",
       "      <td>1</td>\n",
       "      <td>0.183577</td>\n",
       "      <td>0.183577</td>\n",
       "      <td>0.174941</td>\n",
       "      <td>5858.056364</td>\n",
       "      <td>5859.778373</td>\n",
       "      <td>5859.781353</td>\n",
       "      <td>5860.772945</td>\n",
       "      <td>5860.064809</td>\n",
       "      <td>NaN</td>\n",
       "      <td>5860.956522</td>\n",
       "      <td>5861.131462</td>\n",
       "      <td>5861.773057</td>\n",
       "      <td>5861.773057</td>\n",
       "      <td>0.106319</td>\n",
       "      <td>623.235115</td>\n",
       "      <td>536.642048</td>\n",
       "      <td>2tar</td>\n",
       "    </tr>\n",
       "    <tr>\n",
       "      <th>504</th>\n",
       "      <td>505</td>\n",
       "      <td>1</td>\n",
       "      <td>0.216808</td>\n",
       "      <td>0.216808</td>\n",
       "      <td>0.166735</td>\n",
       "      <td>5861.773057</td>\n",
       "      <td>5863.495054</td>\n",
       "      <td>5863.497962</td>\n",
       "      <td>5864.564633</td>\n",
       "      <td>5863.864890</td>\n",
       "      <td>NaN</td>\n",
       "      <td>5864.781442</td>\n",
       "      <td>5864.948177</td>\n",
       "      <td>5865.564787</td>\n",
       "      <td>5865.564787</td>\n",
       "      <td>0.106077</td>\n",
       "      <td>619.040845</td>\n",
       "      <td>540.541605</td>\n",
       "      <td>2tar</td>\n",
       "    </tr>\n",
       "    <tr>\n",
       "      <th>505</th>\n",
       "      <td>506</td>\n",
       "      <td>1</td>\n",
       "      <td>0.000330</td>\n",
       "      <td>NaN</td>\n",
       "      <td>0.316657</td>\n",
       "      <td>5865.564787</td>\n",
       "      <td>5867.287040</td>\n",
       "      <td>5867.289693</td>\n",
       "      <td>5868.281340</td>\n",
       "      <td>5867.523259</td>\n",
       "      <td>NaN</td>\n",
       "      <td>5868.281670</td>\n",
       "      <td>5868.598328</td>\n",
       "      <td>5869.281477</td>\n",
       "      <td>5869.281477</td>\n",
       "      <td>0.106190</td>\n",
       "      <td>1302.182483</td>\n",
       "      <td>550.615460</td>\n",
       "      <td>2tar</td>\n",
       "    </tr>\n",
       "  </tbody>\n",
       "</table>\n",
       "<p>506 rows × 19 columns</p>\n",
       "</div>"
      ],
      "text/plain": [
       "      id  success  rea_time  clean_rea  mov_time     initPixx      t_start  \\\n",
       "0      1        1  0.216861   0.216861  0.150080  3907.853288  3912.872179   \n",
       "1      2        1  0.225113   0.225113  0.116860  3915.344097  3917.181663   \n",
       "2      3        1  0.241754   0.241754  0.100089  3919.144099  3920.873231   \n",
       "3      4        1  0.200115   0.200115  0.108668  3922.819164  3924.542649   \n",
       "4      5        1  0.216792   0.216792  0.133425  3926.544165  3928.273308   \n",
       "..   ...      ...       ...        ...       ...          ...          ...   \n",
       "501  502        1  0.216517   0.216517  0.116744  5850.806296  5852.528015   \n",
       "502  503        1  0.183434   0.183434  0.133440  5854.464683  5856.187103   \n",
       "503  504        1  0.183577   0.183577  0.174941  5858.056364  5859.778373   \n",
       "504  505        1  0.216808   0.216808  0.166735  5861.773057  5863.495054   \n",
       "505  506        1  0.000330        NaN  0.316657  5865.564787  5867.287040   \n",
       "\n",
       "         t1_draw      t2_draw      t_fixed      t_flash   t_movStart  \\\n",
       "0    3912.877361  3914.335708  3913.603225  3914.443982  3914.552569   \n",
       "1    3917.185709  3918.143990  3917.552525          NaN  3918.369103   \n",
       "2    3920.877356  3921.810724  3921.219888          NaN  3922.052478   \n",
       "3    3924.544132  3925.544065  3924.835981  3925.677440  3925.744180   \n",
       "4    3928.277424  3929.244094  3928.544326  3929.369144  3929.460885   \n",
       "..           ...          ...          ...          ...          ...   \n",
       "501  5852.531256  5853.456471  5852.906556  5853.564563  5853.672988   \n",
       "502  5856.189557  5857.056244  5856.481423          NaN  5857.239678   \n",
       "503  5859.781353  5860.772945  5860.064809          NaN  5860.956522   \n",
       "504  5863.497962  5864.564633  5863.864890          NaN  5864.781442   \n",
       "505  5867.289693  5868.281340  5867.523259          NaN  5868.281670   \n",
       "\n",
       "        t_movEnd   t_feedback        t_end   mean_rt       touchX      touchY  \\\n",
       "0    3914.702649  3915.344097  3915.344097  0.100000   652.595001  553.540128   \n",
       "1    3918.485963  3919.144099  3919.144099  0.116861  1269.152611  528.193008   \n",
       "2    3922.152567  3922.819164  3922.819164  0.120987  1321.580979  519.419005   \n",
       "3    3925.852847  3926.544165  3926.544165  0.127909  1300.609632  525.918267   \n",
       "4    3929.594311  3930.244261  3930.244261  0.120961   638.963625  522.343673   \n",
       "..           ...          ...          ...       ...          ...         ...   \n",
       "501  5853.789732  5854.464683  5854.464683  0.106458  1322.105263  527.868045   \n",
       "502  5857.373118  5858.056364  5858.056364  0.106567  1260.764072  543.791236   \n",
       "503  5861.131462  5861.773057  5861.773057  0.106319   623.235115  536.642048   \n",
       "504  5864.948177  5865.564787  5865.564787  0.106077   619.040845  540.541605   \n",
       "505  5868.598328  5869.281477  5869.281477  0.106190  1302.182483  550.615460   \n",
       "\n",
       "    version  \n",
       "0      2tar  \n",
       "1      2tar  \n",
       "2      2tar  \n",
       "3      2tar  \n",
       "4      2tar  \n",
       "..      ...  \n",
       "501    2tar  \n",
       "502    2tar  \n",
       "503    2tar  \n",
       "504    2tar  \n",
       "505    2tar  \n",
       "\n",
       "[506 rows x 19 columns]"
      ]
     },
     "execution_count": 33,
     "metadata": {},
     "output_type": "execute_result"
    }
   ],
   "source": [
    "import numpy as np\n",
    "import pandas as pd\n",
    "import matplotlib.pyplot as plt\n",
    "import seaborn as sns\n",
    "import scipy.stats as stats\n",
    "\n",
    "data_random = pd.read_csv('../1_Data/ck01_MI_dat.csv')\n",
    "data_2t_5deg = pd.read_csv('../1_Data/ck02_MI_dat.csv')\n",
    "data_2t_10deg = pd.read_csv('../1_Data/ck03_MI_dat.csv')\n",
    "data_2t_10deg"
   ]
  },
  {
   "cell_type": "code",
   "execution_count": 34,
   "metadata": {},
   "outputs": [
    {
     "data": {
      "image/png": "[encoded data removed]",
      "text/plain": [
       "<Figure size 432x288 with 1 Axes>"
      ]
     },
     "metadata": {
      "needs_background": "light"
     },
     "output_type": "display_data"
    }
   ],
   "source": [
    "# normalize all times to the \"go\" signal of the task (t2_draw)\n",
    "data = data_2t_10deg\n",
    "data['initPixx'] = data['initPixx'] - data['t2_draw']\n",
    "data['t_start'] = data['t_start'] - data['t2_draw']\n",
    "data['t1_draw'] = data['t1_draw'] - data['t2_draw']\n",
    "data['t2_draw'] = data['t2_draw'] - data['t2_draw']\n",
    "data['t_fixed'] = data['t_fixed'] - data['t2_draw']\n",
    "data['t_flash'] = data['t_flash'] - data['t2_draw']\n",
    "data['t_movStart'] = data['t_movStart'] - data['t2_draw']\n",
    "data['t_movEnd'] = data['t_movEnd'] - data['t2_draw']\n",
    "data['t_feedback'] = data['t_feedback'] - data['t2_draw']\n",
    "data['t_end'] = data['t_end'] - data['t2_draw']\n",
    "\n",
    "plt.hist(data.rea_time);"
   ]
  },
  {
   "cell_type": "code",
   "execution_count": 35,
   "metadata": {},
   "outputs": [
    {
     "data": {
      "image/png": "[encoded data removed]",
      "text/plain": [
       "<Figure size 432x288 with 1 Axes>"
      ]
     },
     "metadata": {
      "needs_background": "light"
     },
     "output_type": "display_data"
    }
   ],
   "source": [
    "# clean the dataset: remove all time trials where the reaction time is larger or smaller than 2 std\n",
    "# also, remove all unsuccessful trials\n",
    "# get standart deviation\n",
    "rea_std = np.std(data.rea_time)\n",
    "\n",
    "# get std as variation from mean\n",
    "rea_cut_high = np.mean(data.rea_time) + 2* rea_std\n",
    "rea_cut_low = np.mean(data.rea_time) - 2* rea_std\n",
    "\n",
    "# delete the rows with too low/high reaction times\n",
    "rm_idx = np.where((data.rea_time >= rea_cut_high) | (data.rea_time <= rea_cut_low))\n",
    "df = data.drop(rm_idx[0]).reset_index(drop = True)\n",
    "# delete rows with unsuccessful trials\n",
    "df = df.drop(np.where(df.success ==0)[0])\n",
    "# plot all trials together\n",
    "plt.hist(df.rea_time);"
   ]
  },
  {
   "cell_type": "code",
   "execution_count": 6,
   "metadata": {
    "scrolled": true
   },
   "outputs": [
    {
     "data": {
      "image/png": "[encoded data removed]",
      "text/plain": [
       "<Figure size 1008x216 with 2 Axes>"
      ]
     },
     "metadata": {
      "needs_background": "light"
     },
     "output_type": "display_data"
    }
   ],
   "source": [
    "# plot reaction times of flash - and no-flash trials seperately\n",
    "fig1, axs1 = plt.subplots(1,2, figsize  = (14,3), sharey = True)\n",
    "axs1[0].hist(df[np.isnan(df.t_flash)]['rea_time'], bins = 20)\n",
    "axs1[0].set_xlim(0.1,0.35)\n",
    "axs1[1].hist(df[np.isnan(df.t_flash)==False]['rea_time'], bins = 20)\n",
    "axs1[1].set_xlim(0.1,0.35);"
   ]
  },
  {
   "cell_type": "code",
   "execution_count": 7,
   "metadata": {},
   "outputs": [
    {
     "name": "stderr",
     "output_type": "stream",
     "text": [
      "C:\\Users\\ClaraQ\\anaconda3\\lib\\site-packages\\numpy\\lib\\histograms.py:839: RuntimeWarning: invalid value encountered in greater_equal\n",
      "  keep = (tmp_a >= first_edge)\n",
      "C:\\Users\\ClaraQ\\anaconda3\\lib\\site-packages\\numpy\\lib\\histograms.py:840: RuntimeWarning: invalid value encountered in less_equal\n",
      "  keep &= (tmp_a <= last_edge)\n"
     ]
    },
    {
     "data": {
      "image/png": "[encoded data removed]",
      "text/plain": [
       "<Figure size 432x288 with 1 Axes>"
      ]
     },
     "metadata": {
      "needs_background": "light"
     },
     "output_type": "display_data"
    }
   ],
   "source": [
    "# This doesn't look like a dip, but maybe the problem is that the flash was not always presented \n",
    "# at the same time relative to the movement onset. Lets check that\n",
    "\n",
    "df['flash_movement'] = df.t_movStart - df.t_flash\n",
    "plt.hist(df.flash_movement, bins =20);"
   ]
  },
  {
   "cell_type": "code",
   "execution_count": 32,
   "metadata": {
    "scrolled": true
   },
   "outputs": [
    {
     "name": "stdout",
     "output_type": "stream",
     "text": [
      "149\n",
      "159\n"
     ]
    },
    {
     "data": {
      "text/plain": [
       "Ks_2sampResult(statistic=0.05660377358490566, pvalue=0.9617909391587456)"
      ]
     },
     "execution_count": 32,
     "metadata": {},
     "output_type": "execute_result"
    }
   ],
   "source": [
    "# So we can see that there is a distribution of reaction times, centeres ar 30-50 ms (which is what we were looking for)\n",
    "# There are few negative times, which is good, bc it means that rarely was the flash shown after the hand already moved.\n",
    "# We don't see a dip in the responses as we would expect at around 50 - 70 ms\n",
    "# we can still compare if the reaction times differ between flash and no flash conditions\n",
    "flash_trials = df[np.isnan(df.t_flash)==False]['rea_time']\n",
    "no_flash_trials = df[np.isnan(df.t_flash)]['rea_time']\n",
    "\n",
    "print(len(flash_trials))\n",
    "print(len(no_flash_trials))\n",
    "\n",
    "flash_trials = np.random.choice(flash_trials, len(no_flash_trials))\n",
    "\n",
    "stats.ks_2samp(flash_trials,no_flash_trials)"
   ]
  },
  {
   "cell_type": "code",
   "execution_count": 23,
   "metadata": {},
   "outputs": [
    {
     "ename": "AttributeError",
     "evalue": "'numpy.ndarray' object has no attribute 'values'",
     "output_type": "error",
     "traceback": [
      "\u001b[1;31m---------------------------------------------------------------------------\u001b[0m",
      "\u001b[1;31mAttributeError\u001b[0m                            Traceback (most recent call last)",
      "\u001b[1;32m<ipython-input-23-a0c5e772898c>\u001b[0m in \u001b[0;36m<module>\u001b[1;34m\u001b[0m\n\u001b[1;32m----> 1\u001b[1;33m \u001b[0mflash_trials\u001b[0m\u001b[1;33m.\u001b[0m\u001b[0mvalues\u001b[0m\u001b[1;33m\u001b[0m\u001b[1;33m\u001b[0m\u001b[0m\n\u001b[0m",
      "\u001b[1;31mAttributeError\u001b[0m: 'numpy.ndarray' object has no attribute 'values'"
     ]
    }
   ],
   "source": [
    "flash_trials.values"
   ]
  },
  {
   "cell_type": "markdown",
   "metadata": {},
   "source": [
    "Conclusion: we find no evidence for manual freezing in the response times. Let's have a look at the duration of the movement instead of the latency"
   ]
  },
  {
   "cell_type": "code",
   "execution_count": 9,
   "metadata": {},
   "outputs": [
    {
     "data": {
      "image/png": "[encoded data removed]",
      "text/plain": [
       "<Figure size 432x288 with 1 Axes>"
      ]
     },
     "metadata": {
      "needs_background": "light"
     },
     "output_type": "display_data"
    }
   ],
   "source": [
    "plt.hist(df.mov_time);"
   ]
  },
  {
   "cell_type": "code",
   "execution_count": 13,
   "metadata": {},
   "outputs": [
    {
     "data": {
      "image/png": "[encoded data removed]",
      "text/plain": [
       "<Figure size 432x288 with 1 Axes>"
      ]
     },
     "metadata": {
      "needs_background": "light"
     },
     "output_type": "display_data"
    }
   ],
   "source": [
    "mov_std = np.std(df.mov_time)\n",
    "\n",
    "# get std as variation from mean\n",
    "mov_cut_high = np.mean(data.mov_time) + 2* mov_std\n",
    "mov_cut_low = np.mean(data.mov_time) - 2* mov_std\n",
    "\n",
    "# delete the rows with too low/high reaction times\n",
    "rm_idx = np.where((data.mov_time >= mov_cut_high) | (data.mov_time <= mov_cut_low))\n",
    "df = data.drop(rm_idx[0]).reset_index(drop = True)\n",
    "# plot all trials together\n",
    "plt.hist(df.mov_time, bins = 5);"
   ]
  },
  {
   "cell_type": "code",
   "execution_count": 15,
   "metadata": {},
   "outputs": [
    {
     "data": {
      "image/png": "[encoded data removed]",
      "text/plain": [
       "<Figure size 1008x216 with 2 Axes>"
      ]
     },
     "metadata": {
      "needs_background": "light"
     },
     "output_type": "display_data"
    }
   ],
   "source": [
    "fig2, axs2 = plt.subplots(1,2, figsize = (14,3))\n",
    "axs2[0].hist(df[np.isnan(df.t_flash)]['mov_time'], bins = 5)\n",
    "axs2[1].hist(df[np.isnan(df.t_flash)==False]['mov_time'], bins = 5);"
   ]
  },
  {
   "cell_type": "code",
   "execution_count": 16,
   "metadata": {},
   "outputs": [
    {
     "data": {
      "image/png": "[encoded data removed]",
      "text/plain": [
       "<Figure size 432x288 with 1 Axes>"
      ]
     },
     "metadata": {
      "needs_background": "light"
     },
     "output_type": "display_data"
    }
   ],
   "source": [
    "# correct the movement durations and show them realtive to flash onset \n",
    "\n",
    "mov_flash = df.t_movEnd - df.t_flash\n",
    "mov_flash = mov_flash[mov_flash<0.5]\n",
    "plt.hist(mov_flash);"
   ]
  },
  {
   "cell_type": "code",
   "execution_count": null,
   "metadata": {},
   "outputs": [],
   "source": []
  }
 ],
 "metadata": {
  "kernelspec": {
   "display_name": "Python 3",
   "language": "python",
   "name": "python3"
  },
  "language_info": {
   "codemirror_mode": {
    "name": "ipython",
    "version": 3
   },
   "file_extension": ".py",
   "mimetype": "text/x-python",
   "name": "python",
   "nbconvert_exporter": "python",
   "pygments_lexer": "ipython3",
   "version": "3.7.6"
  }
 },
 "nbformat": 4,
 "nbformat_minor": 4
}
