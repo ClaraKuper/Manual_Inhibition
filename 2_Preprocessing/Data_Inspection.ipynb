{
 "cells": [
  {
   "cell_type": "markdown",
   "metadata": {},
   "source": [
    "Inspecting data from a manual inhibition paradigm\n",
    "\n",
    "Clara Kuper, January 2021\n",
    "\n",
    "In this task, one obeserver made radip hand movements from one point to another. In half of the trials, the upper and lower third of the screen turned white for 33ms. This \"flash\" occured 80-130 ms before the mean reaction time. This delay is known to elicit saccadic inhibition (a dip in the distribution of saccadic reaction times). We want to see if the same is true fo manual responses.\n",
    "\n",
    "In this notebook, I will:\n",
    "\n",
    "1. Load the data from the experiment\n",
    "2. Look at the reaction time distributions from flash and no-flash conditions\n",
    "3. Clean the reaction time data\n",
    "4. Align the reaction times to the onset of the flash and check again for the distribution\n",
    "5. Compare the flash and no flash condition statistically\n",
    "6. Compare movement durations in flash and no-flash trials\n",
    "7. Compare the end point of movements"
   ]
  },
  {
   "cell_type": "code",
   "execution_count": 1,
   "metadata": {},
   "outputs": [
    {
     "name": "stdout",
     "output_type": "stream",
     "text": [
      "Requirement already satisfied: seaborn==0.11.0 in c:\\users\\claraq\\anaconda3\\lib\\site-packages (0.11.0)\n",
      "Requirement already satisfied: scipy>=1.0 in c:\\users\\claraq\\anaconda3\\lib\\site-packages (from seaborn==0.11.0) (1.4.1)\n",
      "Requirement already satisfied: numpy>=1.15 in c:\\users\\claraq\\anaconda3\\lib\\site-packages (from seaborn==0.11.0) (1.18.1)\n",
      "Requirement already satisfied: matplotlib>=2.2 in c:\\users\\claraq\\anaconda3\\lib\\site-packages (from seaborn==0.11.0) (3.1.3)\n",
      "Requirement already satisfied: pandas>=0.23 in c:\\users\\claraq\\anaconda3\\lib\\site-packages (from seaborn==0.11.0) (1.0.1)\n",
      "Requirement already satisfied: cycler>=0.10 in c:\\users\\claraq\\anaconda3\\lib\\site-packages (from matplotlib>=2.2->seaborn==0.11.0) (0.10.0)\n",
      "Requirement already satisfied: kiwisolver>=1.0.1 in c:\\users\\claraq\\anaconda3\\lib\\site-packages (from matplotlib>=2.2->seaborn==0.11.0) (1.1.0)\n",
      "Requirement already satisfied: pyparsing!=2.0.4,!=2.1.2,!=2.1.6,>=2.0.1 in c:\\users\\claraq\\anaconda3\\lib\\site-packages (from matplotlib>=2.2->seaborn==0.11.0) (2.4.6)\n",
      "Requirement already satisfied: python-dateutil>=2.1 in c:\\users\\claraq\\anaconda3\\lib\\site-packages (from matplotlib>=2.2->seaborn==0.11.0) (2.8.1)\n",
      "Requirement already satisfied: pytz>=2017.2 in c:\\users\\claraq\\anaconda3\\lib\\site-packages (from pandas>=0.23->seaborn==0.11.0) (2019.3)\n",
      "Requirement already satisfied: six in c:\\users\\claraq\\anaconda3\\lib\\site-packages (from cycler>=0.10->matplotlib>=2.2->seaborn==0.11.0) (1.14.0)\n",
      "Requirement already satisfied: setuptools in c:\\users\\claraq\\anaconda3\\lib\\site-packages (from kiwisolver>=1.0.1->matplotlib>=2.2->seaborn==0.11.0) (45.2.0.post20200210)\n"
     ]
    }
   ],
   "source": [
    "! pip install seaborn==0.11.0"
   ]
  },
  {
   "cell_type": "code",
   "execution_count": 2,
   "metadata": {},
   "outputs": [],
   "source": [
    "import numpy as np\n",
    "import pandas as pd\n",
    "import matplotlib.pyplot as plt\n",
    "import seaborn as sns\n",
    "import scipy.stats as stats\n",
    "\n",
    "all_dat_des = []\n",
    "# import all data\n",
    "for s in ['ck11', 'jk01']:\n",
    "    data_s = pd.read_csv('../1_Data/{}_MI_dat.csv'.format(s))\n",
    "    data_s['subject'] = s\n",
    "    design_s = pd.read_csv('../1_Design/{}_MI_des.csv'.format(s))\n",
    "    # there are small differences between these data sets, so we need to kick out some lines\n",
    "    if s == 'jk01':\n",
    "        design_s.drop(['tar3yPos', 'tar3xPos', 'shift'], axis = 1, inplace = True)\n",
    "    design_s.drop(['gapDur'], axis =1, inplace = True)\n",
    "    dat_des_s = pd.concat([data_s, design_s], axis = 1)\n",
    "    all_dat_des.append(dat_des_s)\n",
    "\n",
    "# combine everything in one dataframe\n",
    "data_2t_10deg_em = pd.concat(all_dat_des, axis = 0).reset_index(drop = True)"
   ]
  },
  {
   "cell_type": "code",
   "execution_count": 3,
   "metadata": {},
   "outputs": [
    {
     "data": {
      "text/html": [
       "<div>\n",
       "<style scoped>\n",
       "    .dataframe tbody tr th:only-of-type {\n",
       "        vertical-align: middle;\n",
       "    }\n",
       "\n",
       "    .dataframe tbody tr th {\n",
       "        vertical-align: top;\n",
       "    }\n",
       "\n",
       "    .dataframe thead th {\n",
       "        text-align: right;\n",
       "    }\n",
       "</style>\n",
       "<table border=\"1\" class=\"dataframe\">\n",
       "  <thead>\n",
       "    <tr style=\"text-align: right;\">\n",
       "      <th></th>\n",
       "      <th>id</th>\n",
       "      <th>success</th>\n",
       "      <th>rea_time</th>\n",
       "      <th>clean_rea</th>\n",
       "      <th>mov_time</th>\n",
       "      <th>sacc_rea</th>\n",
       "      <th>sacc_dur</th>\n",
       "      <th>initPixx</th>\n",
       "      <th>t_start</th>\n",
       "      <th>t1_draw</th>\n",
       "      <th>...</th>\n",
       "      <th>gapDur</th>\n",
       "      <th>touchX</th>\n",
       "      <th>touchY</th>\n",
       "      <th>version</th>\n",
       "      <th>subject</th>\n",
       "      <th>flash</th>\n",
       "      <th>tar2xPos</th>\n",
       "      <th>tar2yPos</th>\n",
       "      <th>fixDur</th>\n",
       "      <th>id</th>\n",
       "    </tr>\n",
       "  </thead>\n",
       "  <tbody>\n",
       "    <tr>\n",
       "      <th>0</th>\n",
       "      <td>1</td>\n",
       "      <td>1</td>\n",
       "      <td>0.200350</td>\n",
       "      <td>0.225005</td>\n",
       "      <td>0.075284</td>\n",
       "      <td>0.225005</td>\n",
       "      <td>0.016631</td>\n",
       "      <td>1234.115909</td>\n",
       "      <td>1250.101843</td>\n",
       "      <td>1250.103901</td>\n",
       "      <td>...</td>\n",
       "      <td>0.061933</td>\n",
       "      <td>1237.171307</td>\n",
       "      <td>540.436292</td>\n",
       "      <td>2tar</td>\n",
       "      <td>ck11</td>\n",
       "      <td>1</td>\n",
       "      <td>-10</td>\n",
       "      <td>540</td>\n",
       "      <td>0.740690</td>\n",
       "      <td>377</td>\n",
       "    </tr>\n",
       "    <tr>\n",
       "      <th>1</th>\n",
       "      <td>2</td>\n",
       "      <td>0</td>\n",
       "      <td>0.199917</td>\n",
       "      <td>0.191540</td>\n",
       "      <td>0.141825</td>\n",
       "      <td>0.191540</td>\n",
       "      <td>0.016608</td>\n",
       "      <td>1252.354277</td>\n",
       "      <td>1254.316983</td>\n",
       "      <td>1254.320734</td>\n",
       "      <td>...</td>\n",
       "      <td>0.096399</td>\n",
       "      <td>617.467994</td>\n",
       "      <td>559.742191</td>\n",
       "      <td>2tar</td>\n",
       "      <td>ck11</td>\n",
       "      <td>0</td>\n",
       "      <td>-10</td>\n",
       "      <td>540</td>\n",
       "      <td>0.518884</td>\n",
       "      <td>378</td>\n",
       "    </tr>\n",
       "    <tr>\n",
       "      <th>2</th>\n",
       "      <td>3</td>\n",
       "      <td>1</td>\n",
       "      <td>0.200056</td>\n",
       "      <td>0.174832</td>\n",
       "      <td>0.124982</td>\n",
       "      <td>0.174832</td>\n",
       "      <td>0.016686</td>\n",
       "      <td>1256.445753</td>\n",
       "      <td>1258.237583</td>\n",
       "      <td>1258.245606</td>\n",
       "      <td>...</td>\n",
       "      <td>0.127655</td>\n",
       "      <td>1344.649461</td>\n",
       "      <td>557.124442</td>\n",
       "      <td>2tar</td>\n",
       "      <td>ck11</td>\n",
       "      <td>0</td>\n",
       "      <td>-10</td>\n",
       "      <td>540</td>\n",
       "      <td>0.548498</td>\n",
       "      <td>379</td>\n",
       "    </tr>\n",
       "    <tr>\n",
       "      <th>3</th>\n",
       "      <td>4</td>\n",
       "      <td>1</td>\n",
       "      <td>0.208493</td>\n",
       "      <td>0.225063</td>\n",
       "      <td>0.133714</td>\n",
       "      <td>0.225063</td>\n",
       "      <td>0.016655</td>\n",
       "      <td>1260.562479</td>\n",
       "      <td>1262.397439</td>\n",
       "      <td>1262.403990</td>\n",
       "      <td>...</td>\n",
       "      <td>0.067109</td>\n",
       "      <td>633.196505</td>\n",
       "      <td>519.167080</td>\n",
       "      <td>2tar</td>\n",
       "      <td>ck11</td>\n",
       "      <td>0</td>\n",
       "      <td>-10</td>\n",
       "      <td>540</td>\n",
       "      <td>0.735675</td>\n",
       "      <td>380</td>\n",
       "    </tr>\n",
       "    <tr>\n",
       "      <th>4</th>\n",
       "      <td>5</td>\n",
       "      <td>1</td>\n",
       "      <td>0.200099</td>\n",
       "      <td>0.183407</td>\n",
       "      <td>0.108466</td>\n",
       "      <td>0.183407</td>\n",
       "      <td>0.016922</td>\n",
       "      <td>1264.604260</td>\n",
       "      <td>1266.390738</td>\n",
       "      <td>1266.395749</td>\n",
       "      <td>...</td>\n",
       "      <td>0.113265</td>\n",
       "      <td>1340.455192</td>\n",
       "      <td>534.219137</td>\n",
       "      <td>2tar</td>\n",
       "      <td>ck11</td>\n",
       "      <td>0</td>\n",
       "      <td>-10</td>\n",
       "      <td>540</td>\n",
       "      <td>0.723946</td>\n",
       "      <td>381</td>\n",
       "    </tr>\n",
       "    <tr>\n",
       "      <th>...</th>\n",
       "      <td>...</td>\n",
       "      <td>...</td>\n",
       "      <td>...</td>\n",
       "      <td>...</td>\n",
       "      <td>...</td>\n",
       "      <td>...</td>\n",
       "      <td>...</td>\n",
       "      <td>...</td>\n",
       "      <td>...</td>\n",
       "      <td>...</td>\n",
       "      <td>...</td>\n",
       "      <td>...</td>\n",
       "      <td>...</td>\n",
       "      <td>...</td>\n",
       "      <td>...</td>\n",
       "      <td>...</td>\n",
       "      <td>...</td>\n",
       "      <td>...</td>\n",
       "      <td>...</td>\n",
       "      <td>...</td>\n",
       "      <td>...</td>\n",
       "    </tr>\n",
       "    <tr>\n",
       "      <th>1592</th>\n",
       "      <td>977</td>\n",
       "      <td>1</td>\n",
       "      <td>0.191762</td>\n",
       "      <td>0.208197</td>\n",
       "      <td>0.375057</td>\n",
       "      <td>0.208197</td>\n",
       "      <td>0.183374</td>\n",
       "      <td>7658.629748</td>\n",
       "      <td>7660.421652</td>\n",
       "      <td>7660.429624</td>\n",
       "      <td>...</td>\n",
       "      <td>0.106085</td>\n",
       "      <td>631.122604</td>\n",
       "      <td>537.802747</td>\n",
       "      <td>2tar</td>\n",
       "      <td>jk01</td>\n",
       "      <td>1</td>\n",
       "      <td>10</td>\n",
       "      <td>540</td>\n",
       "      <td>0.724722</td>\n",
       "      <td>423</td>\n",
       "    </tr>\n",
       "    <tr>\n",
       "      <th>1593</th>\n",
       "      <td>978</td>\n",
       "      <td>1</td>\n",
       "      <td>0.249916</td>\n",
       "      <td>0.283169</td>\n",
       "      <td>0.350103</td>\n",
       "      <td>0.283169</td>\n",
       "      <td>0.158353</td>\n",
       "      <td>7662.621512</td>\n",
       "      <td>7664.474994</td>\n",
       "      <td>7664.479709</td>\n",
       "      <td>...</td>\n",
       "      <td>0.084358</td>\n",
       "      <td>600.249468</td>\n",
       "      <td>535.166042</td>\n",
       "      <td>2tar</td>\n",
       "      <td>jk01</td>\n",
       "      <td>0</td>\n",
       "      <td>-10</td>\n",
       "      <td>540</td>\n",
       "      <td>0.515646</td>\n",
       "      <td>424</td>\n",
       "    </tr>\n",
       "    <tr>\n",
       "      <th>1594</th>\n",
       "      <td>979</td>\n",
       "      <td>1</td>\n",
       "      <td>0.258534</td>\n",
       "      <td>0.233301</td>\n",
       "      <td>0.325301</td>\n",
       "      <td>0.233301</td>\n",
       "      <td>0.150169</td>\n",
       "      <td>7666.863209</td>\n",
       "      <td>7668.660168</td>\n",
       "      <td>7668.663001</td>\n",
       "      <td>...</td>\n",
       "      <td>0.106830</td>\n",
       "      <td>599.726194</td>\n",
       "      <td>550.986267</td>\n",
       "      <td>2tar</td>\n",
       "      <td>jk01</td>\n",
       "      <td>0</td>\n",
       "      <td>10</td>\n",
       "      <td>540</td>\n",
       "      <td>0.509613</td>\n",
       "      <td>425</td>\n",
       "    </tr>\n",
       "    <tr>\n",
       "      <th>1595</th>\n",
       "      <td>980</td>\n",
       "      <td>1</td>\n",
       "      <td>0.241604</td>\n",
       "      <td>0.208174</td>\n",
       "      <td>0.325121</td>\n",
       "      <td>0.208174</td>\n",
       "      <td>0.233437</td>\n",
       "      <td>7671.129885</td>\n",
       "      <td>7672.923829</td>\n",
       "      <td>7672.929721</td>\n",
       "      <td>...</td>\n",
       "      <td>0.068379</td>\n",
       "      <td>613.331305</td>\n",
       "      <td>544.724095</td>\n",
       "      <td>2tar</td>\n",
       "      <td>jk01</td>\n",
       "      <td>0</td>\n",
       "      <td>10</td>\n",
       "      <td>540</td>\n",
       "      <td>0.537879</td>\n",
       "      <td>426</td>\n",
       "    </tr>\n",
       "    <tr>\n",
       "      <th>1596</th>\n",
       "      <td>981</td>\n",
       "      <td>1</td>\n",
       "      <td>0.216819</td>\n",
       "      <td>0.183465</td>\n",
       "      <td>0.291783</td>\n",
       "      <td>0.183465</td>\n",
       "      <td>0.366598</td>\n",
       "      <td>7675.105001</td>\n",
       "      <td>7676.901107</td>\n",
       "      <td>7676.904814</td>\n",
       "      <td>...</td>\n",
       "      <td>0.063136</td>\n",
       "      <td>632.169151</td>\n",
       "      <td>544.724095</td>\n",
       "      <td>2tar</td>\n",
       "      <td>jk01</td>\n",
       "      <td>0</td>\n",
       "      <td>-10</td>\n",
       "      <td>540</td>\n",
       "      <td>0.515646</td>\n",
       "      <td>427</td>\n",
       "    </tr>\n",
       "  </tbody>\n",
       "</table>\n",
       "<p>1597 rows × 32 columns</p>\n",
       "</div>"
      ],
      "text/plain": [
       "       id  success  rea_time  clean_rea  mov_time  sacc_rea  sacc_dur  \\\n",
       "0       1        1  0.200350   0.225005  0.075284  0.225005  0.016631   \n",
       "1       2        0  0.199917   0.191540  0.141825  0.191540  0.016608   \n",
       "2       3        1  0.200056   0.174832  0.124982  0.174832  0.016686   \n",
       "3       4        1  0.208493   0.225063  0.133714  0.225063  0.016655   \n",
       "4       5        1  0.200099   0.183407  0.108466  0.183407  0.016922   \n",
       "...   ...      ...       ...        ...       ...       ...       ...   \n",
       "1592  977        1  0.191762   0.208197  0.375057  0.208197  0.183374   \n",
       "1593  978        1  0.249916   0.283169  0.350103  0.283169  0.158353   \n",
       "1594  979        1  0.258534   0.233301  0.325301  0.233301  0.150169   \n",
       "1595  980        1  0.241604   0.208174  0.325121  0.208174  0.233437   \n",
       "1596  981        1  0.216819   0.183465  0.291783  0.183465  0.366598   \n",
       "\n",
       "         initPixx      t_start      t1_draw  ...    gapDur       touchX  \\\n",
       "0     1234.115909  1250.101843  1250.103901  ...  0.061933  1237.171307   \n",
       "1     1252.354277  1254.316983  1254.320734  ...  0.096399   617.467994   \n",
       "2     1256.445753  1258.237583  1258.245606  ...  0.127655  1344.649461   \n",
       "3     1260.562479  1262.397439  1262.403990  ...  0.067109   633.196505   \n",
       "4     1264.604260  1266.390738  1266.395749  ...  0.113265  1340.455192   \n",
       "...           ...          ...          ...  ...       ...          ...   \n",
       "1592  7658.629748  7660.421652  7660.429624  ...  0.106085   631.122604   \n",
       "1593  7662.621512  7664.474994  7664.479709  ...  0.084358   600.249468   \n",
       "1594  7666.863209  7668.660168  7668.663001  ...  0.106830   599.726194   \n",
       "1595  7671.129885  7672.923829  7672.929721  ...  0.068379   613.331305   \n",
       "1596  7675.105001  7676.901107  7676.904814  ...  0.063136   632.169151   \n",
       "\n",
       "          touchY  version  subject  flash  tar2xPos  tar2yPos    fixDur   id  \n",
       "0     540.436292     2tar     ck11      1       -10       540  0.740690  377  \n",
       "1     559.742191     2tar     ck11      0       -10       540  0.518884  378  \n",
       "2     557.124442     2tar     ck11      0       -10       540  0.548498  379  \n",
       "3     519.167080     2tar     ck11      0       -10       540  0.735675  380  \n",
       "4     534.219137     2tar     ck11      0       -10       540  0.723946  381  \n",
       "...          ...      ...      ...    ...       ...       ...       ...  ...  \n",
       "1592  537.802747     2tar     jk01      1        10       540  0.724722  423  \n",
       "1593  535.166042     2tar     jk01      0       -10       540  0.515646  424  \n",
       "1594  550.986267     2tar     jk01      0        10       540  0.509613  425  \n",
       "1595  544.724095     2tar     jk01      0        10       540  0.537879  426  \n",
       "1596  544.724095     2tar     jk01      0       -10       540  0.515646  427  \n",
       "\n",
       "[1597 rows x 32 columns]"
      ]
     },
     "execution_count": 3,
     "metadata": {},
     "output_type": "execute_result"
    }
   ],
   "source": [
    "data_2t_10deg_em"
   ]
  },
  {
   "cell_type": "code",
   "execution_count": 4,
   "metadata": {
    "scrolled": true
   },
   "outputs": [
    {
     "data": {
      "image/png": "[encoded data removed]",
      "text/plain": [
       "<Figure size 432x288 with 1 Axes>"
      ]
     },
     "metadata": {
      "needs_background": "light"
     },
     "output_type": "display_data"
    }
   ],
   "source": [
    "# initialize the data set we will work with\n",
    "data = data_2t_10deg_em.copy()\n",
    "\n",
    "# plot the basic distribution of reaction times\n",
    "# now, we will always plot for two subjects\n",
    "sns.histplot(data = data, x = 'rea_time', hue = 'subject', multiple = \"stack\", binwidth = 0.02);"
   ]
  },
  {
   "cell_type": "code",
   "execution_count": 5,
   "metadata": {
    "scrolled": true
   },
   "outputs": [
    {
     "data": {
      "image/png": "[encoded data removed]",
      "text/plain": [
       "<Figure size 432x288 with 1 Axes>"
      ]
     },
     "metadata": {
      "needs_background": "light"
     },
     "output_type": "display_data"
    }
   ],
   "source": [
    "# clean the dataset: remove all time trials where the reaction time is larger or smaller than 2 std\n",
    "# also, remove all unsuccessful trials\n",
    "# get standart deviation\n",
    "rea_std = np.std(data.rea_time)\n",
    "\n",
    "# get std as variation from mean\n",
    "rea_cut_high = np.mean(data.rea_time) + 2* rea_std\n",
    "rea_cut_low = np.mean(data.rea_time) - 2* rea_std\n",
    "\n",
    "# delete the rows with too low/high reaction times\n",
    "rm_idx = np.where((data.rea_time >= rea_cut_high) | (data.rea_time <= rea_cut_low))\n",
    "df = data.drop(rm_idx[0]).reset_index(drop = True)\n",
    "# delete rows with unsuccessful trials\n",
    "df = df.drop(np.where(df.success ==0)[0])\n",
    "sns.histplot(data = df, x = 'rea_time', hue = 'subject', multiple = \"stack\", binwidth = 0.01);"
   ]
  },
  {
   "cell_type": "code",
   "execution_count": 6,
   "metadata": {
    "scrolled": true
   },
   "outputs": [
    {
     "data": {
      "image/png": "[encoded data removed]",
      "text/plain": [
       "<Figure size 1080x432 with 6 Axes>"
      ]
     },
     "metadata": {
      "needs_background": "light"
     },
     "output_type": "display_data"
    }
   ],
   "source": [
    "# plot reaction times of flash - and no-flash trials seperately\n",
    "fig1, axs1 = plt.subplots(2,3, figsize  = (15,6), sharey = True)\n",
    "#fig1.suptitle('Two Dot Version 10 deg, 110 ms flash delay')\n",
    "# manual reaction times no flash\n",
    "sns.histplot(data = df[df.flash == 0], x = 'rea_time', hue = 'subject', multiple = \"stack\", binwidth = 0.01, ax = axs1[0,0]);\n",
    "#axs1[0,0].hist(df[df.flash == 0]['rea_time'], bins = 20, color = 'orange')\n",
    "axs1[0,0].set_xlim(0.1,0.35)\n",
    "axs1[0,0].set_xlabel('manual reaction time')\n",
    "axs1[0,0].set_ylabel('count')\n",
    "axs1[0,0].set_title('No Flash Manual Reaction')\n",
    "# manual reaction times flash\n",
    "sns.histplot(data = df[df.flash == 1], x = 'rea_time', hue = 'subject', multiple = \"stack\", binwidth = 0.01, ax = axs1[0,1]);\n",
    "#axs1[0,1].hist(df[df.flash == 1]['rea_time'], bins = 20, color = 'orange')\n",
    "axs1[0,1].set_xlim(0.1,0.35)\n",
    "axs1[0,1].set_xlabel('manual reaction time')\n",
    "axs1[0,1].set_title('Flash Manual Reaction')\n",
    "# manual reaction times relative to flash\n",
    "df['flash_movement'] = df.t_movStart - df.t_flash\n",
    "sns.histplot(data = df[df.flash == 1], x = 'flash_movement', hue = 'subject', multiple = \"stack\", binwidth = 0.01, ax = axs1[0,2]);\n",
    "#axs1[0,2].hist(df.flash_movement[df.flash == 1], bins =20, color = 'orange')\n",
    "axs1[0,2].set_xlim(0.0,0.25)\n",
    "axs1[0,2].set_xlabel('manual reaction time')\n",
    "axs1[0,2].set_title('Manual Reaction relative to flash')\n",
    "\n",
    "\n",
    "# The same thing for eye movements\n",
    "# occular reaction times no flash\n",
    "sns.histplot(data = df[df.flash == 0], x = 'sacc_rea', hue = 'subject', multiple = \"stack\", binwidth = 0.01, ax = axs1[1,0]);\n",
    "#axs1[1,0].hist(df[df.flash == 0]['sacc_rea'], bins = 20, color = 'green')\n",
    "axs1[1,0].set_xlim(0.05,0.3)\n",
    "axs1[1,0].set_xlabel('occular reaction time')\n",
    "axs1[1,0].set_ylabel('count')\n",
    "axs1[1,0].set_title('No Flash')\n",
    "# occular reaction times flash\n",
    "#axs1[1,1].hist(df[df.flash == 1]['sacc_rea'], bins = 20, color = 'green')\n",
    "sns.histplot(data = df[df.flash == 1], x = 'sacc_rea', hue = 'subject', multiple = \"stack\", binwidth = 0.01, ax = axs1[1,1]);\n",
    "axs1[1,1].set_xlim(0.05,0.3)\n",
    "axs1[1,1].set_xlabel('occular reaction time')\n",
    "axs1[1,1].set_title('Flash')\n",
    "# manual reaction times relative to flash\n",
    "df['flash_saccade'] = df.t_saccStart - df.t_flash\n",
    "sns.histplot(data = df[df.flash == 1], x = 'flash_saccade', hue = 'subject', multiple = \"stack\", binwidth = 0.01, ax = axs1[1,2]);\n",
    "#axs1[1,2].hist(df.flash_saccade[df.flash == 1], bins =20, color = 'green')\n",
    "axs1[1,2].set_xlim(0.0,0.25)\n",
    "axs1[1,2].set_xlabel('occular reaction time')\n",
    "axs1[1,2].set_title('Occular Reaction relative to flash')\n",
    "plt.tight_layout()\n",
    "\n",
    "plt.savefig('../3_Figures/2Dot_10deg_110ms_Saccades_Hands.png')"
   ]
  },
  {
   "cell_type": "code",
   "execution_count": 7,
   "metadata": {},
   "outputs": [],
   "source": [
    "# because we've seen above that the flash appeared roughly when we expected it to appear, \n",
    "# we can compute the timing of an \"invisible\" flash in no-flash trials\n",
    "# this was done online for jk, we only need to do that for ck here\n",
    "df.loc[np.isnan(df.t_flash),'t_flash'] = df[np.isnan(df.t_flash)]['t2_draw'] + df[np.isnan(df.t_flash)]['gapDur'] "
   ]
  },
  {
   "cell_type": "code",
   "execution_count": 8,
   "metadata": {
    "scrolled": true
   },
   "outputs": [
    {
     "data": {
      "image/png": "[encoded data removed]",
      "text/plain": [
       "<Figure size 1080x432 with 4 Axes>"
      ]
     },
     "metadata": {
      "needs_background": "light"
     },
     "output_type": "display_data"
    }
   ],
   "source": [
    "# Now that we have flash time in both cases, we can also compare flash and no-flash trials flash-locked\n",
    "fig2, axs2 = plt.subplots(2,2, figsize  = (15,6), sharey = True)\n",
    "\n",
    "# manual reaction times no flash\n",
    "# manual reaction times relative to flash\n",
    "df['flash_movement'] = df.t_movStart - df.t_flash\n",
    "sns.histplot(data = df[df.flash == 0], x = 'flash_movement', hue = 'subject', multiple = \"stack\", binwidth = 0.01, ax = axs2[0,0]);\n",
    "#axs2[0,0].hist(df.flash_movement[df.flash == 0], bins =20, color = 'orange')\n",
    "axs2[0,0].set_xlim(0.0,0.25)\n",
    "axs2[0,0].set_xlabel('manual reaction time')\n",
    "axs2[0,0].set_title('invisible flash')\n",
    "\n",
    "# manual reaction times flash\n",
    "sns.histplot(data = df[df.flash == 1], x = 'flash_movement', hue = 'subject', multiple = \"stack\", binwidth = 0.01, ax = axs2[0,1]);\n",
    "#axs2[0,1].hist(df.flash_movement[df.flash == 1], bins =20, color = 'orange')\n",
    "axs2[0,1].set_xlim(0.0,0.25)\n",
    "axs2[0,1].set_xlabel('manual reaction time')\n",
    "axs2[0,1].set_title('visible flash')\n",
    "\n",
    "\n",
    "\n",
    "# The same thing for eye movements\n",
    "# occular reaction times no flash\n",
    "df['flash_saccade'] = df.t_saccStart - df.t_flash\n",
    "sns.histplot(data = df[df.flash == 0], x = 'flash_saccade', hue = 'subject', multiple = \"stack\", binwidth = 0.01, ax = axs2[1,0]);\n",
    "#axs2[1,0].hist(df.flash_saccade[df.flash == 0], bins =20, color = 'green')\n",
    "axs2[1,0].set_xlim(0.0,0.25)\n",
    "axs2[1,0].set_xlabel('occular reaction time')\n",
    "#axs1[1,0].set_title('occualar rt relative to flash')\n",
    "\n",
    "# manual reaction times flash\n",
    "sns.histplot(data = df[df.flash == 1], x = 'flash_saccade', hue = 'subject', multiple = \"stack\", binwidth = 0.01, ax = axs2[1,1]);\n",
    "#axs2[1,1].hist(df.flash_saccade[df.flash == 1], bins =20, color = 'green')\n",
    "axs2[1,1].set_xlim(0.0,0.25)\n",
    "axs2[1,1].set_xlabel('occular reaction time')\n",
    "#axs1[1,1].set_title('occular rt relative to invisible flash')\n",
    "\n",
    "plt.tight_layout()\n",
    "\n",
    "data[]plt.savefig('../3_Figures/2Dot_10deg_110ms_Flash_Relative.png')"
   ]
  },
  {
   "cell_type": "code",
   "execution_count": 17,
   "metadata": {},
   "outputs": [
    {
     "data": {
      "image/png": "[encoded data removed]",
      "text/plain": [
       "<Figure size 432x288 with 1 Axes>"
      ]
     },
     "metadata": {
      "needs_background": "light"
     },
     "output_type": "display_data"
    }
   ],
   "source": [
    "df['flash_rel'] = df.t_flash - df.t_saccStart\n",
    "sns.histplot(data = df, x = 'flash_rel', hue = 'subject', multiple = \"stack\", binwidth = 0.01);\n"
   ]
  },
  {
   "cell_type": "code",
   "execution_count": null,
   "metadata": {},
   "outputs": [],
   "source": []
  },
  {
   "cell_type": "code",
   "execution_count": 9,
   "metadata": {},
   "outputs": [
    {
     "name": "stdout",
     "output_type": "stream",
     "text": [
      "The mean manual reaction time with flash was: 0.118 \n",
      "The mean manual reaction time without flash was: 0.117 \n",
      "The mean occular reaction time with flash was: 0.095 \n",
      "The mean occular reaction time without flash was: 0.091\n"
     ]
    }
   ],
   "source": [
    "# Ok, so there seems to be a dip in eye movements and sth is also going on with hand movements .... \n",
    "# however, it looks a bit like hand movements might get faster while eye movements get slower with a flash.\n",
    "# Let's check that\n",
    "\n",
    "mean_hand_nf = np.mean(df.flash_movement[df.flash == 0])\n",
    "mean_hand_f = np.mean(df.flash_movement[df.flash == 1])\n",
    "mean_eyes_nf = np.mean(df.flash_saccade[df.flash == 0])\n",
    "mean_eyes_f = np.mean(df.flash_saccade[df.flash == 1])\n",
    "print('The mean manual reaction time with flash was: {} \\nThe mean manual reaction time without flash was: {} \\nThe mean occular reaction time with flash was: {} \\nThe mean occular reaction time without flash was: {}'.format(np.round(mean_hand_f,3), np.round(mean_hand_nf, 3), np.round(mean_eyes_f,3), np.round(mean_eyes_nf,3)))"
   ]
  },
  {
   "cell_type": "code",
   "execution_count": 10,
   "metadata": {
    "scrolled": true
   },
   "outputs": [
    {
     "data": {
      "image/png": "[encoded data removed]",
      "text/plain": [
       "<Figure size 504x504 with 1 Axes>"
      ]
     },
     "metadata": {
      "needs_background": "light"
     },
     "output_type": "display_data"
    }
   ],
   "source": [
    "# Ok, this suggests that there might be a stronger difference in the occualar reaction times than in the manual \n",
    "# reaction times. That should have an influence on the relative timing between eye and hand movement onset\n",
    "\n",
    "# let's have a look at this difference\n",
    "df['hand_eyes'] = df.flash_movement - df.flash_saccade\n",
    "\n",
    "# negative values indicate that the hand movement occured earlier than the eye movement\n",
    "fig3, axs3 = plt.subplots(1,1, figsize = (7,7), sharex = True, sharey = True)\n",
    "colors = ['black','grey']\n",
    "axs3.hist([df.hand_eyes[df.flash == 1],df.hand_eyes[df.flash == 0]], color = colors, label = ['flash', 'no flash'])\n",
    "axs3.set_xlabel('timing hand movement - eye movement')\n",
    "axs3.legend()\n",
    "\n",
    "plt.savefig('../3_Figures/2Dot_10deg_110ms_Hand_Eye_Onset_Distributions.png')"
   ]
  },
  {
   "cell_type": "code",
   "execution_count": 11,
   "metadata": {},
   "outputs": [
    {
     "name": "stdout",
     "output_type": "stream",
     "text": [
      "The mean delay with flash between hand and eye movement was 0.022 s\n",
      "The mean delay without flash was 0.025 s\n"
     ]
    }
   ],
   "source": [
    "## Print the mean values of this difference\n",
    "\n",
    "mean_f = np.mean(df.hand_eyes[df.flash == 1])\n",
    "mean_nf = np.mean(df.hand_eyes[df.flash == 0])\n",
    "\n",
    "print('The mean delay with flash between hand and eye movement was {} s\\nThe mean delay without flash was {} s'.format(np.round(mean_f,3),np.round(mean_nf,3)))\n"
   ]
  },
  {
   "cell_type": "code",
   "execution_count": null,
   "metadata": {
    "scrolled": true
   },
   "outputs": [],
   "source": [
    "# There are clearly differences in the eye movement timing that show in the relation between eye and hand movements. \n",
    "# However, it is not clear if we really see a difference in flash and no flash trials for hand movements, to lets test that formally\n",
    "\n",
    "flash_trials = df[df.flash == 1]['rea_time']\n",
    "no_flash_trials = df[df.flash == 0]['rea_time']\n",
    "\n",
    "print(len(flash_trials))\n",
    "print(len(no_flash_trials))\n",
    "\n",
    "stats.ks_2samp(flash_trials,no_flash_trials)"
   ]
  },
  {
   "cell_type": "markdown",
   "metadata": {},
   "source": [
    "Conclusion: we find no evidence for manual freezing in the response times. However, it could be that the flash nevertheless influences the response. Either, it might be that the duration of the movement is influenced, such that the movement is slowed down due to the flash.\n",
    "\n",
    "We might also expect to see a difference between flash and no-flash trials when we are looking at the end point of the reach movement. Because the movement is executed later than the eye movement, it might be less accurate.\n",
    "\n",
    "But first, we will analyse the movement duration."
   ]
  },
  {
   "cell_type": "code",
   "execution_count": null,
   "metadata": {},
   "outputs": [],
   "source": [
    "fig4, axs4 = plt.subplots(2,2, figsize = (10,7), sharex = 'row', sharey = 'row')\n",
    "\n",
    "# the hand movement duration\n",
    "axs4[0,0].hist(df[df.flash == 0]['mov_time'], color = 'orange')\n",
    "axs4[0,0].set_title('No Flash')\n",
    "axs4[0,0].set_xlabel('Hand Movement Duration')\n",
    "axs4[0,1].hist(df[df.flash == 1]['mov_time'], color = 'orange')\n",
    "axs4[0,1].set_title('Flash')\n",
    "axs4[0,1].set_xlabel('Hand Movement Duration')\n",
    "\n",
    "\n",
    "# the eye movement duration\n",
    "# determine the bin width (i want a high resoution between 0 and 0.1 s, so I want a binwidth of 0.02)\n",
    "bw = 0.01\n",
    "bins = np.arange(min(df[df.flash == 1]['sacc_dur']), max(df[df.flash == 1]['sacc_dur']) + bw, bw)\n",
    "\n",
    "axs4[1,0].hist(df[df.flash == 0]['sacc_dur'], color = 'green', bins = bins)\n",
    "axs4[1,0].set_xlim(0.0,0.1)\n",
    "axs4[1,0].set_xlabel('Eye Movement Duration')\n",
    "axs4[1,1].hist(df[df.flash == 1]['sacc_dur'], color = 'green', bins = bins)\n",
    "axs4[1,1].set_xlim(0.0,0.1)\n",
    "axs4[1,1].set_xlabel('Eye Movement Duration');"
   ]
  },
  {
   "cell_type": "code",
   "execution_count": null,
   "metadata": {},
   "outputs": [],
   "source": [
    "# Ok, that looks like there is no difference in the duration. As a final check, \n",
    "# we will look at the landing times relative to the flash\n",
    "\n",
    "df['flash_movEnd'] = df.t_movEnd - df.t_flash\n",
    "df['flash_saccEnd'] = df.t_saccEnd - df.t_flash\n",
    "\n",
    "fig5, axs5 = plt.subplots(2,2, figsize = (10,7), sharex = 'row', sharey = 'row')\n",
    "\n",
    "# the hand movement duration\n",
    "axs5[0,0].hist(df[df.flash == 0]['flash_movEnd'], color = 'orange')\n",
    "axs5[0,0].set_title('No Flash')\n",
    "axs5[0,0].set_xlabel('Hand Movement Landing')\n",
    "axs5[0,1].hist(df[df.flash == 1]['flash_movEnd'], color = 'orange')\n",
    "axs5[0,1].set_title('Flash')\n",
    "axs5[0,1].set_xlabel('Hand Movement Landing')\n",
    "\n",
    "\n",
    "# the eye movement duration\n",
    "# determine the bin width (i want a high resoution between 0 and 0.1 s, so I want a binwidth of 0.02)\n",
    "bw = 0.05\n",
    "bins = np.arange(min(df[df.flash == 1]['flash_saccEnd']), max(df[df.flash == 1]['flash_saccEnd']) + bw, bw)\n",
    "\n",
    "axs5[1,0].hist(df[df.flash == 0]['flash_saccEnd'], color = 'green', bins = bins)\n",
    "axs5[1,0].set_xlabel('Eye Movement Landing')\n",
    "axs5[1,1].hist(df[df.flash == 1]['flash_saccEnd'], color = 'green', bins = bins)\n",
    "axs5[1,1].set_xlabel('Eye Movement Landing');"
   ]
  },
  {
   "cell_type": "code",
   "execution_count": null,
   "metadata": {},
   "outputs": [],
   "source": [
    "# Still, we don't see that landing time differs between the conditions. So we move on.\n",
    "# If the hand movement is not affected by the flash, but the eye movement is, \n",
    "# we might see that the end points where the hand lands is less accurate in flash trials. \n",
    "# Why would that be? Because the eyes haven't looked there yet and therefore, we have only peripheral information\n",
    "\n",
    "# plot the landing points of all movements\n",
    "fig6, axs6 = plt.subplots(1,2, figsize = (20,4), sharex=True, sharey=True)\n",
    "\n",
    "axs6[0].scatter(df[df.flash==0].touchX,df[df.flash==0].touchY)\n",
    "axs6[0].scatter([617,1301],[540,540])\n",
    "axs6[0].set_title('No Flash')\n",
    "axs6[1].scatter(df[df.flash==1].touchX,df[df.flash==1].touchY)\n",
    "axs6[1].scatter([617,1301],[540,540])\n",
    "axs6[1].set_title('Flash');"
   ]
  },
  {
   "cell_type": "code",
   "execution_count": null,
   "metadata": {},
   "outputs": [],
   "source": [
    "# compute the x and y errors\n",
    "df['errorX'] = abs(df.touchX - 960) - 350\n",
    "df['errorY'] = df.touchY - 540\n",
    "\n",
    "fig7, axs7 = plt.subplots(2,2, figsize = (7,7), sharex = 'row', sharey = True)\n",
    "axs7[0,0].hist(df[df.flash == 0].errorX)\n",
    "axs7[0,0].set_title('Flash')\n",
    "axs7[0,0].set_xlabel('deviation in pixel')\n",
    "axs7[0,0].set_ylabel('count X error')\n",
    "axs7[0,1].hist(df[df.flash == 1].errorX)\n",
    "axs7[0,1].set_title('No Flash')\n",
    "axs7[0,1].set_xlabel('deviation in pixel')\n",
    "axs7[1,0].set_ylabel('count Y error')\n",
    "axs7[1,0].hist(df[df.flash == 0].errorY)\n",
    "axs7[1,1].hist(df[df.flash == 1].errorY);"
   ]
  },
  {
   "cell_type": "code",
   "execution_count": null,
   "metadata": {},
   "outputs": [],
   "source": [
    "# plot the error as a function of saccade-hand offset\n",
    "\n",
    "fig8, axs8 = plt.subplots(2,2, figsize = (7,7), sharex = True, sharey = True)\n",
    "axs8[0,0].set_title('No Flash')\n",
    "axs8[0,0].set_ylabel('X Error in pix')\n",
    "\n",
    "axs8[0,0].scatter(df.hand_eyes[df.flash == 0],df.errorX[df.flash == 0])\n",
    "axs8[0,1].set_title('Flash')\n",
    "axs8[0,1].scatter(df.hand_eyes[df.flash == 1],df.errorX[df.flash == 1])\n",
    "\n",
    "axs8[1,0].scatter(df.hand_eyes[df.flash == 0],df.errorY[df.flash == 0])\n",
    "axs8[1,0].set_ylabel('Y Error in pix')\n",
    "axs8[1,0].set_xlabel('difference hand/eyes in s')\n",
    "axs8[1,1].scatter(df.hand_eyes[df.flash == 1],df.errorY[df.flash == 1])\n",
    "axs8[1,1].set_xlabel('difference hand/eyes in s');"
   ]
  },
  {
   "cell_type": "markdown",
   "metadata": {},
   "source": [
    "It also seems like there is no effect of the flash on the final position of the hand movement."
   ]
  }
 ],
 "metadata": {
  "kernelspec": {
   "display_name": "Python 3",
   "language": "python",
   "name": "python3"
  },
  "language_info": {
   "codemirror_mode": {
    "name": "ipython",
    "version": 3
   },
   "file_extension": ".py",
   "mimetype": "text/x-python",
   "name": "python",
   "nbconvert_exporter": "python",
   "pygments_lexer": "ipython3",
   "version": "3.7.6"
  }
 },
 "nbformat": 4,
 "nbformat_minor": 4
}
